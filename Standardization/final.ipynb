{
 "cells": [
  {
   "cell_type": "code",
   "execution_count": 18,
   "id": "a15b3836",
   "metadata": {},
   "outputs": [
    {
     "name": "stdout",
     "output_type": "stream",
     "text": [
      "c:\\Users\\princ\\OneDrive\\Desktop\\RIJAN Files\\XGOOA\\Standardization\n"
     ]
    }
   ],
   "source": [
    "import pandas as pd\n",
    "import os\n",
    "print(os.getcwd())\n"
   ]
  },
  {
   "cell_type": "code",
   "execution_count": 19,
   "id": "cfa9a753",
   "metadata": {},
   "outputs": [],
   "source": [
    "df = pd.read_csv(\"../Standardization/pinakafinal_final.csv\")"
   ]
  },
  {
   "cell_type": "code",
   "execution_count": 20,
   "id": "f23e5288",
   "metadata": {},
   "outputs": [
    {
     "name": "stdout",
     "output_type": "stream",
     "text": [
      "status       invasion_risk_score\n",
      "Invasive     0.9                    889\n",
      "Established  0.5                    666\n",
      "Reported     0.2                    336\n",
      "EN           0.3                    232\n",
      "Failed       0.1                    201\n",
      "Extirpated   0.0                     18\n",
      "Name: count, dtype: int64\n",
      "0\n"
     ]
    }
   ],
   "source": [
    "df['invasion_risk_score'] = df['status'].map(risk_mapping)\n",
    "\n",
    "# Check\n",
    "print(df[['status', 'invasion_risk_score']].value_counts())\n",
    "print(df['invasion_risk_score'].isna().sum())  # should be 0\n"
   ]
  },
  {
   "cell_type": "code",
   "execution_count": 21,
   "id": "f6c2bac6",
   "metadata": {},
   "outputs": [
    {
     "name": "stdout",
     "output_type": "stream",
     "text": [
      "Target missing values: 0\n",
      "count    2342.000000\n",
      "mean        0.550811\n",
      "std         0.301196\n",
      "min         0.000000\n",
      "25%         0.300000\n",
      "50%         0.500000\n",
      "75%         0.900000\n",
      "max         0.900000\n",
      "Name: invasion_risk_score, dtype: float64\n",
      "Unique statuses: ['Established' 'Reported' 'Invasive' 'Failed' 'Extirpated' 'EN']\n",
      "temp_max                  1334\n",
      "weight_max                 962\n",
      "length_max                 618\n",
      "temp_pref_min              468\n",
      "temp_pref_max              456\n",
      "fecundity_mean            1177\n",
      "fecundity_min                0\n",
      "fecundity_max                0\n",
      "trophic_level              203\n",
      "trophic_level_estimate    1993\n",
      "wb_ph_min                    0\n",
      "wb_ph_max                    0\n",
      "wb_salinity_min              0\n",
      "wb_salinity_max              0\n",
      "wb_do_min                    0\n",
      "wb_do_max                    0\n",
      "wb_bod_min                   0\n",
      "wb_bod_max                   0\n",
      "wb_turbidity_min             0\n",
      "wb_turbidity_max             0\n",
      "wb_temp_min                  0\n",
      "wb_temp_max                  0\n",
      "invasion_risk_score          0\n",
      "dtype: int64\n",
      "fish_id            2\n",
      "species            2\n",
      "common_name       53\n",
      "kingdom            2\n",
      "phylum             2\n",
      "class              2\n",
      "order              2\n",
      "family             2\n",
      "genus              2\n",
      "status             0\n",
      "feeding_type       0\n",
      "waterbody_name     3\n",
      "dtype: int64\n",
      "  fish_id          species   common_name   kingdom    phylum           class  \\\n",
      "0   F0001  Copella arnoldi  Splash tetra  Animalia  Chordata  Actinopterygii   \n",
      "1   F0001  Copella arnoldi  Splash tetra  Animalia  Chordata  Actinopterygii   \n",
      "2   F0001  Copella arnoldi  Splash tetra  Animalia  Chordata  Actinopterygii   \n",
      "3   F0001  Copella arnoldi  Splash tetra  Animalia  Chordata  Actinopterygii   \n",
      "4   F0001  Copella arnoldi  Splash tetra  Animalia  Chordata  Actinopterygii   \n",
      "\n",
      "           order        family    genus       status  ... wb_salinity_max  \\\n",
      "0  Characiformes  Lebiasinidae  Copella  Established  ...             0.0   \n",
      "1  Characiformes  Lebiasinidae  Copella  Established  ...             0.0   \n",
      "2  Characiformes  Lebiasinidae  Copella  Established  ...             0.0   \n",
      "3  Characiformes  Lebiasinidae  Copella  Established  ...             0.0   \n",
      "4  Characiformes  Lebiasinidae  Copella  Established  ...             0.0   \n",
      "\n",
      "   wb_do_min  wb_do_max  wb_bod_min  wb_bod_max  wb_turbidity_min  \\\n",
      "0        5.5        5.5         2.0         2.0               4.0   \n",
      "1        6.0        6.0         3.0         3.0               6.0   \n",
      "2        5.0        5.0         2.0         2.0               3.0   \n",
      "3        5.2        5.2         2.0         2.0               4.0   \n",
      "4        4.5        4.5         4.0         4.0              20.0   \n",
      "\n",
      "   wb_turbidity_max  wb_temp_min  wb_temp_max  invasion_risk_score  \n",
      "0               4.0         27.0         27.0                  0.5  \n",
      "1               6.0         27.0         27.0                  0.5  \n",
      "2               3.0         26.5         26.5                  0.5  \n",
      "3               4.0         27.0         27.0                  0.5  \n",
      "4              20.0         26.0         26.0                  0.5  \n",
      "\n",
      "[5 rows x 35 columns]\n"
     ]
    }
   ],
   "source": [
    "# 1. Check target column\n",
    "print(\"Target missing values:\", df['invasion_risk_score'].isna().sum())\n",
    "print(df['invasion_risk_score'].describe())\n",
    "\n",
    "# 2. Check unique status values\n",
    "print(\"Unique statuses:\", df['status'].unique())\n",
    "\n",
    "# 3. Check numeric features for missing values\n",
    "print(df.select_dtypes(include='number').isna().sum())\n",
    "\n",
    "# 4. Check categorical features for missing values\n",
    "cat_cols = df.select_dtypes(include='object').columns\n",
    "print(df[cat_cols].isna().sum())\n",
    "\n",
    "# 5. Quick preview of the dataset\n",
    "print(df.head())"
   ]
  },
  {
   "cell_type": "code",
   "execution_count": 12,
   "id": "f25a9e00",
   "metadata": {},
   "outputs": [],
   "source": [
    "df.to_csv(\"final_dataset.csv\", index=False)"
   ]
  }
 ],
 "metadata": {
  "kernelspec": {
   "display_name": "Python 3",
   "language": "python",
   "name": "python3"
  },
  "language_info": {
   "codemirror_mode": {
    "name": "ipython",
    "version": 3
   },
   "file_extension": ".py",
   "mimetype": "text/x-python",
   "name": "python",
   "nbconvert_exporter": "python",
   "pygments_lexer": "ipython3",
   "version": "3.13.7"
  }
 },
 "nbformat": 4,
 "nbformat_minor": 5
}
