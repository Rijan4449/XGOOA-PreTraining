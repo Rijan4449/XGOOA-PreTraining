{
 "cells": [
  {
   "cell_type": "markdown",
   "id": "e6f0f9f7",
   "metadata": {},
   "source": [
    "# Final Pre-Processing Step"
   ]
  },
  {
   "cell_type": "code",
   "execution_count": 107,
   "id": "3a572add",
   "metadata": {},
   "outputs": [],
   "source": [
    "import pandas as pd\n",
    "from sklearn.pipeline import Pipeline\n",
    "from sklearn.compose import ColumnTransformer\n",
    "from sklearn.impute import SimpleImputer\n",
    "from sklearn.preprocessing import OneHotEncoder\n",
    "import category_encoders as ce"
   ]
  },
  {
   "cell_type": "code",
   "execution_count": 108,
   "id": "f0f89080",
   "metadata": {},
   "outputs": [
    {
     "name": "stdout",
     "output_type": "stream",
     "text": [
      "feeding_type\n",
      "predator               1062\n",
      "other                   492\n",
      "variable                274\n",
      "omnivore                175\n",
      "grazer                  142\n",
      "planktivore              70\n",
      "carnivore                41\n",
      "browser                  27\n",
      "insectivore              23\n",
      "benthic_insectivore      17\n",
      "herbivore                10\n",
      "scavenger                 7\n",
      "detritivore               2\n",
      "Name: count, dtype: int64\n"
     ]
    },
    {
     "data": {
      "application/vnd.microsoft.datawrangler.viewer.v0+json": {
       "columns": [
        {
         "name": "index",
         "rawType": "int64",
         "type": "integer"
        },
        {
         "name": "fish_id",
         "rawType": "object",
         "type": "string"
        },
        {
         "name": "species",
         "rawType": "object",
         "type": "string"
        },
        {
         "name": "common_name",
         "rawType": "object",
         "type": "string"
        },
        {
         "name": "kingdom",
         "rawType": "object",
         "type": "string"
        },
        {
         "name": "phylum",
         "rawType": "object",
         "type": "string"
        },
        {
         "name": "class",
         "rawType": "object",
         "type": "string"
        },
        {
         "name": "order",
         "rawType": "object",
         "type": "string"
        },
        {
         "name": "family",
         "rawType": "object",
         "type": "string"
        },
        {
         "name": "genus",
         "rawType": "object",
         "type": "string"
        },
        {
         "name": "status",
         "rawType": "object",
         "type": "string"
        },
        {
         "name": "feeding_type",
         "rawType": "object",
         "type": "string"
        },
        {
         "name": "temp_max",
         "rawType": "float64",
         "type": "float"
        },
        {
         "name": "weight_max",
         "rawType": "float64",
         "type": "float"
        },
        {
         "name": "length_max",
         "rawType": "float64",
         "type": "float"
        },
        {
         "name": "temp_pref_min",
         "rawType": "float64",
         "type": "float"
        },
        {
         "name": "temp_pref_max",
         "rawType": "float64",
         "type": "float"
        },
        {
         "name": "fecundity_mean",
         "rawType": "float64",
         "type": "float"
        },
        {
         "name": "fecundity_min",
         "rawType": "float64",
         "type": "float"
        },
        {
         "name": "fecundity_max",
         "rawType": "float64",
         "type": "float"
        },
        {
         "name": "trophic_level",
         "rawType": "float64",
         "type": "float"
        },
        {
         "name": "trophic_level_estimate",
         "rawType": "float64",
         "type": "float"
        },
        {
         "name": "waterbody_name",
         "rawType": "object",
         "type": "string"
        },
        {
         "name": "wb_ph_min",
         "rawType": "float64",
         "type": "float"
        },
        {
         "name": "wb_ph_max",
         "rawType": "float64",
         "type": "float"
        },
        {
         "name": "wb_salinity_min",
         "rawType": "float64",
         "type": "float"
        },
        {
         "name": "wb_salinity_max",
         "rawType": "float64",
         "type": "float"
        },
        {
         "name": "wb_do_min",
         "rawType": "float64",
         "type": "float"
        },
        {
         "name": "wb_do_max",
         "rawType": "float64",
         "type": "float"
        },
        {
         "name": "wb_bod_min",
         "rawType": "float64",
         "type": "float"
        },
        {
         "name": "wb_bod_max",
         "rawType": "float64",
         "type": "float"
        },
        {
         "name": "wb_turbidity_min",
         "rawType": "float64",
         "type": "float"
        },
        {
         "name": "wb_turbidity_max",
         "rawType": "float64",
         "type": "float"
        },
        {
         "name": "wb_temp_min",
         "rawType": "float64",
         "type": "float"
        },
        {
         "name": "wb_temp_max",
         "rawType": "float64",
         "type": "float"
        }
       ],
       "ref": "9c467e7d-5747-44a9-8374-95416aad7d66",
       "rows": [
        [
         "0",
         "F0001",
         "Copella arnoldi",
         "Splash tetra",
         "Animalia",
         "Chordata",
         "Actinopterygii",
         "Characiformes",
         "Lebiasinidae",
         "Copella",
         "Established",
         "predator",
         null,
         "0.328",
         "3.489",
         "25.0",
         "29.0",
         "175.0",
         "150.0",
         "200.0",
         "3.26",
         null,
         "Amazon Basin",
         "5.5",
         "5.5",
         "0.0",
         "0.0",
         "5.5",
         "5.5",
         "2.0",
         "2.0",
         "4.0",
         "4.0",
         "27.0",
         "27.0"
        ],
        [
         "1",
         "F0001",
         "Copella arnoldi",
         "Splash tetra",
         "Animalia",
         "Chordata",
         "Actinopterygii",
         "Characiformes",
         "Lebiasinidae",
         "Copella",
         "Established",
         "predator",
         null,
         "0.328",
         "3.489",
         "25.0",
         "29.0",
         "175.0",
         "150.0",
         "200.0",
         "3.26",
         null,
         "Demerara River Wismar",
         "6.2",
         "6.2",
         "0.0",
         "0.0",
         "6.0",
         "6.0",
         "3.0",
         "3.0",
         "6.0",
         "6.0",
         "27.0",
         "27.0"
        ],
        [
         "2",
         "F0001",
         "Copella arnoldi",
         "Splash tetra",
         "Animalia",
         "Chordata",
         "Actinopterygii",
         "Characiformes",
         "Lebiasinidae",
         "Copella",
         "Established",
         "predator",
         null,
         "0.328",
         "3.489",
         "25.0",
         "29.0",
         "175.0",
         "150.0",
         "200.0",
         "3.26",
         null,
         "Yarakita River",
         "5.3",
         "5.3",
         "0.0",
         "0.0",
         "5.0",
         "5.0",
         "2.0",
         "2.0",
         "3.0",
         "3.0",
         "26.5",
         "26.5"
        ],
        [
         "3",
         "F0001",
         "Copella arnoldi",
         "Splash tetra",
         "Animalia",
         "Chordata",
         "Actinopterygii",
         "Characiformes",
         "Lebiasinidae",
         "Copella",
         "Established",
         "predator",
         null,
         "0.328",
         "3.489",
         "25.0",
         "29.0",
         "175.0",
         "150.0",
         "200.0",
         "3.26",
         null,
         "Arauau River",
         "5.4",
         "5.4",
         "0.0",
         "0.0",
         "5.2",
         "5.2",
         "2.0",
         "2.0",
         "4.0",
         "4.0",
         "27.0",
         "27.0"
        ],
        [
         "4",
         "F0001",
         "Copella arnoldi",
         "Splash tetra",
         "Animalia",
         "Chordata",
         "Actinopterygii",
         "Characiformes",
         "Lebiasinidae",
         "Copella",
         "Established",
         "predator",
         null,
         "0.328",
         "3.489",
         "25.0",
         "29.0",
         "175.0",
         "150.0",
         "200.0",
         "3.26",
         null,
         "Kurupung River, Upper Mazaruni District",
         "6.0",
         "6.0",
         "0.0",
         "0.0",
         "4.5",
         "4.5",
         "4.0",
         "4.0",
         "20.0",
         "20.0",
         "26.0",
         "26.0"
        ]
       ],
       "shape": {
        "columns": 34,
        "rows": 5
       }
      },
      "text/html": [
       "<div>\n",
       "<style scoped>\n",
       "    .dataframe tbody tr th:only-of-type {\n",
       "        vertical-align: middle;\n",
       "    }\n",
       "\n",
       "    .dataframe tbody tr th {\n",
       "        vertical-align: top;\n",
       "    }\n",
       "\n",
       "    .dataframe thead th {\n",
       "        text-align: right;\n",
       "    }\n",
       "</style>\n",
       "<table border=\"1\" class=\"dataframe\">\n",
       "  <thead>\n",
       "    <tr style=\"text-align: right;\">\n",
       "      <th></th>\n",
       "      <th>fish_id</th>\n",
       "      <th>species</th>\n",
       "      <th>common_name</th>\n",
       "      <th>kingdom</th>\n",
       "      <th>phylum</th>\n",
       "      <th>class</th>\n",
       "      <th>order</th>\n",
       "      <th>family</th>\n",
       "      <th>genus</th>\n",
       "      <th>status</th>\n",
       "      <th>...</th>\n",
       "      <th>wb_salinity_min</th>\n",
       "      <th>wb_salinity_max</th>\n",
       "      <th>wb_do_min</th>\n",
       "      <th>wb_do_max</th>\n",
       "      <th>wb_bod_min</th>\n",
       "      <th>wb_bod_max</th>\n",
       "      <th>wb_turbidity_min</th>\n",
       "      <th>wb_turbidity_max</th>\n",
       "      <th>wb_temp_min</th>\n",
       "      <th>wb_temp_max</th>\n",
       "    </tr>\n",
       "  </thead>\n",
       "  <tbody>\n",
       "    <tr>\n",
       "      <th>0</th>\n",
       "      <td>F0001</td>\n",
       "      <td>Copella arnoldi</td>\n",
       "      <td>Splash tetra</td>\n",
       "      <td>Animalia</td>\n",
       "      <td>Chordata</td>\n",
       "      <td>Actinopterygii</td>\n",
       "      <td>Characiformes</td>\n",
       "      <td>Lebiasinidae</td>\n",
       "      <td>Copella</td>\n",
       "      <td>Established</td>\n",
       "      <td>...</td>\n",
       "      <td>0.0</td>\n",
       "      <td>0.0</td>\n",
       "      <td>5.5</td>\n",
       "      <td>5.5</td>\n",
       "      <td>2.0</td>\n",
       "      <td>2.0</td>\n",
       "      <td>4.0</td>\n",
       "      <td>4.0</td>\n",
       "      <td>27.0</td>\n",
       "      <td>27.0</td>\n",
       "    </tr>\n",
       "    <tr>\n",
       "      <th>1</th>\n",
       "      <td>F0001</td>\n",
       "      <td>Copella arnoldi</td>\n",
       "      <td>Splash tetra</td>\n",
       "      <td>Animalia</td>\n",
       "      <td>Chordata</td>\n",
       "      <td>Actinopterygii</td>\n",
       "      <td>Characiformes</td>\n",
       "      <td>Lebiasinidae</td>\n",
       "      <td>Copella</td>\n",
       "      <td>Established</td>\n",
       "      <td>...</td>\n",
       "      <td>0.0</td>\n",
       "      <td>0.0</td>\n",
       "      <td>6.0</td>\n",
       "      <td>6.0</td>\n",
       "      <td>3.0</td>\n",
       "      <td>3.0</td>\n",
       "      <td>6.0</td>\n",
       "      <td>6.0</td>\n",
       "      <td>27.0</td>\n",
       "      <td>27.0</td>\n",
       "    </tr>\n",
       "    <tr>\n",
       "      <th>2</th>\n",
       "      <td>F0001</td>\n",
       "      <td>Copella arnoldi</td>\n",
       "      <td>Splash tetra</td>\n",
       "      <td>Animalia</td>\n",
       "      <td>Chordata</td>\n",
       "      <td>Actinopterygii</td>\n",
       "      <td>Characiformes</td>\n",
       "      <td>Lebiasinidae</td>\n",
       "      <td>Copella</td>\n",
       "      <td>Established</td>\n",
       "      <td>...</td>\n",
       "      <td>0.0</td>\n",
       "      <td>0.0</td>\n",
       "      <td>5.0</td>\n",
       "      <td>5.0</td>\n",
       "      <td>2.0</td>\n",
       "      <td>2.0</td>\n",
       "      <td>3.0</td>\n",
       "      <td>3.0</td>\n",
       "      <td>26.5</td>\n",
       "      <td>26.5</td>\n",
       "    </tr>\n",
       "    <tr>\n",
       "      <th>3</th>\n",
       "      <td>F0001</td>\n",
       "      <td>Copella arnoldi</td>\n",
       "      <td>Splash tetra</td>\n",
       "      <td>Animalia</td>\n",
       "      <td>Chordata</td>\n",
       "      <td>Actinopterygii</td>\n",
       "      <td>Characiformes</td>\n",
       "      <td>Lebiasinidae</td>\n",
       "      <td>Copella</td>\n",
       "      <td>Established</td>\n",
       "      <td>...</td>\n",
       "      <td>0.0</td>\n",
       "      <td>0.0</td>\n",
       "      <td>5.2</td>\n",
       "      <td>5.2</td>\n",
       "      <td>2.0</td>\n",
       "      <td>2.0</td>\n",
       "      <td>4.0</td>\n",
       "      <td>4.0</td>\n",
       "      <td>27.0</td>\n",
       "      <td>27.0</td>\n",
       "    </tr>\n",
       "    <tr>\n",
       "      <th>4</th>\n",
       "      <td>F0001</td>\n",
       "      <td>Copella arnoldi</td>\n",
       "      <td>Splash tetra</td>\n",
       "      <td>Animalia</td>\n",
       "      <td>Chordata</td>\n",
       "      <td>Actinopterygii</td>\n",
       "      <td>Characiformes</td>\n",
       "      <td>Lebiasinidae</td>\n",
       "      <td>Copella</td>\n",
       "      <td>Established</td>\n",
       "      <td>...</td>\n",
       "      <td>0.0</td>\n",
       "      <td>0.0</td>\n",
       "      <td>4.5</td>\n",
       "      <td>4.5</td>\n",
       "      <td>4.0</td>\n",
       "      <td>4.0</td>\n",
       "      <td>20.0</td>\n",
       "      <td>20.0</td>\n",
       "      <td>26.0</td>\n",
       "      <td>26.0</td>\n",
       "    </tr>\n",
       "  </tbody>\n",
       "</table>\n",
       "<p>5 rows × 34 columns</p>\n",
       "</div>"
      ],
      "text/plain": [
       "  fish_id          species   common_name   kingdom    phylum           class  \\\n",
       "0   F0001  Copella arnoldi  Splash tetra  Animalia  Chordata  Actinopterygii   \n",
       "1   F0001  Copella arnoldi  Splash tetra  Animalia  Chordata  Actinopterygii   \n",
       "2   F0001  Copella arnoldi  Splash tetra  Animalia  Chordata  Actinopterygii   \n",
       "3   F0001  Copella arnoldi  Splash tetra  Animalia  Chordata  Actinopterygii   \n",
       "4   F0001  Copella arnoldi  Splash tetra  Animalia  Chordata  Actinopterygii   \n",
       "\n",
       "           order        family    genus       status  ... wb_salinity_min  \\\n",
       "0  Characiformes  Lebiasinidae  Copella  Established  ...             0.0   \n",
       "1  Characiformes  Lebiasinidae  Copella  Established  ...             0.0   \n",
       "2  Characiformes  Lebiasinidae  Copella  Established  ...             0.0   \n",
       "3  Characiformes  Lebiasinidae  Copella  Established  ...             0.0   \n",
       "4  Characiformes  Lebiasinidae  Copella  Established  ...             0.0   \n",
       "\n",
       "   wb_salinity_max  wb_do_min  wb_do_max  wb_bod_min  wb_bod_max  \\\n",
       "0              0.0        5.5        5.5         2.0         2.0   \n",
       "1              0.0        6.0        6.0         3.0         3.0   \n",
       "2              0.0        5.0        5.0         2.0         2.0   \n",
       "3              0.0        5.2        5.2         2.0         2.0   \n",
       "4              0.0        4.5        4.5         4.0         4.0   \n",
       "\n",
       "   wb_turbidity_min  wb_turbidity_max  wb_temp_min  wb_temp_max  \n",
       "0               4.0               4.0         27.0         27.0  \n",
       "1               6.0               6.0         27.0         27.0  \n",
       "2               3.0               3.0         26.5         26.5  \n",
       "3               4.0               4.0         27.0         27.0  \n",
       "4              20.0              20.0         26.0         26.0  \n",
       "\n",
       "[5 rows x 34 columns]"
      ]
     },
     "execution_count": 108,
     "metadata": {},
     "output_type": "execute_result"
    }
   ],
   "source": [
    "df = pd.read_csv(\"pre_encoded_final_final_final_final.csv\")\n",
    "print(df.feeding_type.value_counts())\n",
    "\n",
    "df.head()"
   ]
  },
  {
   "cell_type": "code",
   "execution_count": 109,
   "id": "d313f1a1",
   "metadata": {},
   "outputs": [
    {
     "name": "stdout",
     "output_type": "stream",
     "text": [
      "status\n",
      "Invasive       889\n",
      "Established    666\n",
      "Reported       336\n",
      "EN             232\n",
      "Failed         201\n",
      "Extirpated      18\n",
      "Name: count, dtype: int64\n"
     ]
    }
   ],
   "source": [
    "print(df.status.value_counts())"
   ]
  },
  {
   "cell_type": "code",
   "execution_count": 110,
   "id": "bcd9236b",
   "metadata": {},
   "outputs": [],
   "source": [
    "# Columns to drop (not used for modeling)\n",
    "drop_cols = ['fish_id', 'common_name']\n",
    "\n",
    "# High-cardinality categorical\n",
    "high_cardinality = ['species', 'waterbody_name']\n",
    "\n",
    "# Low-cardinality categorical\n",
    "low_cardinality = ['kingdom', 'phylum', 'class', 'order', 'family', 'genus', 'status', 'feeding_type']\n",
    "\n",
    "# Numeric features\n",
    "numeric_cols = [\n",
    "    'temp_max', 'weight_max', 'length_max', 'temp_pref_min', 'temp_pref_max',\n",
    "    'fecundity_mean', 'fecundity_min', 'fecundity_max',\n",
    "    'trophic_level_estimate', 'trophic_level',\n",
    "    'wb_ph_min', 'wb_ph_max', 'wb_salinity_min', 'wb_salinity_max',\n",
    "    'wb_do_min', 'wb_do_max', 'wb_bod_min', 'wb_bod_max',\n",
    "    'wb_turbidity_min', 'wb_turbidity_max', 'wb_temp_min', 'wb_temp_max'\n",
    "]\n",
    "\n",
    "# Import necessary libraries\n",
    "from sklearn.pipeline import Pipeline\n",
    "from sklearn.compose import ColumnTransformer\n",
    "from sklearn.impute import SimpleImputer\n",
    "from sklearn.preprocessing import OneHotEncoder\n",
    "import category_encoders as ce\n",
    "\n",
    "# Define transformers\n",
    "numeric_transformer = Pipeline([\n",
    "    ('imputer', SimpleImputer(strategy='median'))\n",
    "])\n",
    "\n",
    "low_card_transformer = Pipeline([\n",
    "    ('imputer', SimpleImputer(strategy='most_frequent')),\n",
    "    ('onehot', OneHotEncoder(handle_unknown='ignore'))\n",
    "])\n",
    "\n",
    "high_card_transformer = Pipeline([\n",
    "    ('imputer', SimpleImputer(strategy='most_frequent')),\n",
    "    ('target', ce.TargetEncoder())\n",
    "])\n",
    "\n",
    "# Column transformer\n",
    "preprocessor = ColumnTransformer([\n",
    "    ('num', numeric_transformer, numeric_cols),\n",
    "    ('low_cat', low_card_transformer, low_cardinality),\n",
    "    ('high_cat', high_card_transformer, high_cardinality)\n",
    "], remainder='drop')"
   ]
  },
  {
   "cell_type": "code",
   "execution_count": 111,
   "id": "c7d96b93",
   "metadata": {},
   "outputs": [
    {
     "data": {
      "application/vnd.microsoft.datawrangler.viewer.v0+json": {
       "columns": [
        {
         "name": "('status', 'invasion_risk_score')",
         "rawType": "object",
         "type": "unknown"
        },
        {
         "name": "count",
         "rawType": "int64",
         "type": "integer"
        }
       ],
       "ref": "cca1be49-a149-4e57-8883-ab29deed65ef",
       "rows": [
        [
         "('Invasive', np.float64(0.9))",
         "889"
        ],
        [
         "('Established', np.float64(0.5))",
         "666"
        ],
        [
         "('Reported', np.float64(0.2))",
         "336"
        ],
        [
         "('EN', np.float64(0.3))",
         "232"
        ],
        [
         "('Failed', np.float64(0.1))",
         "201"
        ],
        [
         "('Extirpated', np.float64(0.0))",
         "18"
        ]
       ],
       "shape": {
        "columns": 1,
        "rows": 6
       }
      },
      "text/plain": [
       "status       invasion_risk_score\n",
       "Invasive     0.9                    889\n",
       "Established  0.5                    666\n",
       "Reported     0.2                    336\n",
       "EN           0.3                    232\n",
       "Failed       0.1                    201\n",
       "Extirpated   0.0                     18\n",
       "Name: count, dtype: int64"
      ]
     },
     "execution_count": 111,
     "metadata": {},
     "output_type": "execute_result"
    }
   ],
   "source": [
    "# Define numeric invasion risk mapping\n",
    "risk_mapping = {\n",
    "    'Failed': 0.1,        # Attempted introduction but failed to establish\n",
    "    'Reported': 0.2,      # Reported introduction, survival unknown\n",
    "    'EN': 0.3,            # Endangered - unlikely to become invasive\n",
    "    'Established': 0.5,   # Successfully established, potential for impact\n",
    "    'Invasive': 0.9,      # Confirmed negative ecological/economic impact\n",
    "    'Extirpated': 0.0     # No longer present, zero risk\n",
    "}\n",
    "\n",
    "# Ensure your status column matches the keys\n",
    "# df['status'] = df['status'].str.capitalize().str.strip()\n",
    "\n",
    "# Create numeric target\n",
    "df['invasion_risk_score'] = df['status'].map(risk_mapping)\n",
    "\n",
    "# Quick check\n",
    "df[['status', 'invasion_risk_score']].value_counts()\n"
   ]
  },
  {
   "cell_type": "code",
   "execution_count": 121,
   "id": "5431c37f",
   "metadata": {},
   "outputs": [],
   "source": [
    "df.to_csv(\"pinakafinal_final.csv\", index=False)"
   ]
  },
  {
   "cell_type": "markdown",
   "id": "239980e3",
   "metadata": {},
   "source": [
    "# IGNORE CELLS BELOW"
   ]
  },
  {
   "cell_type": "code",
   "execution_count": 113,
   "id": "a03aceac",
   "metadata": {},
   "outputs": [],
   "source": [
    "y = df['invasion_risk_score']"
   ]
  },
  {
   "cell_type": "code",
   "execution_count": 114,
   "id": "5a465a5a",
   "metadata": {},
   "outputs": [
    {
     "name": "stdout",
     "output_type": "stream",
     "text": [
      "0\n",
      "0.0 %\n"
     ]
    },
    {
     "data": {
      "application/vnd.microsoft.datawrangler.viewer.v0+json": {
       "columns": [
        {
         "name": "index",
         "rawType": "int64",
         "type": "integer"
        },
        {
         "name": "fish_id",
         "rawType": "object",
         "type": "string"
        },
        {
         "name": "species",
         "rawType": "object",
         "type": "string"
        },
        {
         "name": "common_name",
         "rawType": "object",
         "type": "string"
        },
        {
         "name": "kingdom",
         "rawType": "object",
         "type": "string"
        },
        {
         "name": "phylum",
         "rawType": "object",
         "type": "string"
        },
        {
         "name": "class",
         "rawType": "object",
         "type": "string"
        },
        {
         "name": "order",
         "rawType": "object",
         "type": "string"
        },
        {
         "name": "family",
         "rawType": "object",
         "type": "string"
        },
        {
         "name": "genus",
         "rawType": "object",
         "type": "string"
        },
        {
         "name": "status",
         "rawType": "object",
         "type": "string"
        },
        {
         "name": "feeding_type",
         "rawType": "object",
         "type": "string"
        },
        {
         "name": "temp_max",
         "rawType": "float64",
         "type": "float"
        },
        {
         "name": "weight_max",
         "rawType": "float64",
         "type": "float"
        },
        {
         "name": "length_max",
         "rawType": "float64",
         "type": "float"
        },
        {
         "name": "temp_pref_min",
         "rawType": "float64",
         "type": "float"
        },
        {
         "name": "temp_pref_max",
         "rawType": "float64",
         "type": "float"
        },
        {
         "name": "fecundity_mean",
         "rawType": "float64",
         "type": "float"
        },
        {
         "name": "fecundity_min",
         "rawType": "float64",
         "type": "float"
        },
        {
         "name": "fecundity_max",
         "rawType": "float64",
         "type": "float"
        },
        {
         "name": "trophic_level",
         "rawType": "float64",
         "type": "float"
        },
        {
         "name": "trophic_level_estimate",
         "rawType": "float64",
         "type": "float"
        },
        {
         "name": "waterbody_name",
         "rawType": "object",
         "type": "string"
        },
        {
         "name": "wb_ph_min",
         "rawType": "float64",
         "type": "float"
        },
        {
         "name": "wb_ph_max",
         "rawType": "float64",
         "type": "float"
        },
        {
         "name": "wb_salinity_min",
         "rawType": "float64",
         "type": "float"
        },
        {
         "name": "wb_salinity_max",
         "rawType": "float64",
         "type": "float"
        },
        {
         "name": "wb_do_min",
         "rawType": "float64",
         "type": "float"
        },
        {
         "name": "wb_do_max",
         "rawType": "float64",
         "type": "float"
        },
        {
         "name": "wb_bod_min",
         "rawType": "float64",
         "type": "float"
        },
        {
         "name": "wb_bod_max",
         "rawType": "float64",
         "type": "float"
        },
        {
         "name": "wb_turbidity_min",
         "rawType": "float64",
         "type": "float"
        },
        {
         "name": "wb_turbidity_max",
         "rawType": "float64",
         "type": "float"
        },
        {
         "name": "wb_temp_min",
         "rawType": "float64",
         "type": "float"
        },
        {
         "name": "wb_temp_max",
         "rawType": "float64",
         "type": "float"
        },
        {
         "name": "invasion_risk_score",
         "rawType": "float64",
         "type": "float"
        }
       ],
       "ref": "7e94bcad-2567-4154-bcb7-fb0a47e854ee",
       "rows": [],
       "shape": {
        "columns": 35,
        "rows": 0
       }
      },
      "text/html": [
       "<div>\n",
       "<style scoped>\n",
       "    .dataframe tbody tr th:only-of-type {\n",
       "        vertical-align: middle;\n",
       "    }\n",
       "\n",
       "    .dataframe tbody tr th {\n",
       "        vertical-align: top;\n",
       "    }\n",
       "\n",
       "    .dataframe thead th {\n",
       "        text-align: right;\n",
       "    }\n",
       "</style>\n",
       "<table border=\"1\" class=\"dataframe\">\n",
       "  <thead>\n",
       "    <tr style=\"text-align: right;\">\n",
       "      <th></th>\n",
       "      <th>fish_id</th>\n",
       "      <th>species</th>\n",
       "      <th>common_name</th>\n",
       "      <th>kingdom</th>\n",
       "      <th>phylum</th>\n",
       "      <th>class</th>\n",
       "      <th>order</th>\n",
       "      <th>family</th>\n",
       "      <th>genus</th>\n",
       "      <th>status</th>\n",
       "      <th>...</th>\n",
       "      <th>wb_salinity_max</th>\n",
       "      <th>wb_do_min</th>\n",
       "      <th>wb_do_max</th>\n",
       "      <th>wb_bod_min</th>\n",
       "      <th>wb_bod_max</th>\n",
       "      <th>wb_turbidity_min</th>\n",
       "      <th>wb_turbidity_max</th>\n",
       "      <th>wb_temp_min</th>\n",
       "      <th>wb_temp_max</th>\n",
       "      <th>invasion_risk_score</th>\n",
       "    </tr>\n",
       "  </thead>\n",
       "  <tbody>\n",
       "  </tbody>\n",
       "</table>\n",
       "<p>0 rows × 35 columns</p>\n",
       "</div>"
      ],
      "text/plain": [
       "Empty DataFrame\n",
       "Columns: [fish_id, species, common_name, kingdom, phylum, class, order, family, genus, status, feeding_type, temp_max, weight_max, length_max, temp_pref_min, temp_pref_max, fecundity_mean, fecundity_min, fecundity_max, trophic_level, trophic_level_estimate, waterbody_name, wb_ph_min, wb_ph_max, wb_salinity_min, wb_salinity_max, wb_do_min, wb_do_max, wb_bod_min, wb_bod_max, wb_turbidity_min, wb_turbidity_max, wb_temp_min, wb_temp_max, invasion_risk_score]\n",
       "Index: []\n",
       "\n",
       "[0 rows x 35 columns]"
      ]
     },
     "execution_count": 114,
     "metadata": {},
     "output_type": "execute_result"
    }
   ],
   "source": [
    "# Count NaN values in target\n",
    "print(df[\"invasion_risk_score\"].isna().sum())\n",
    "\n",
    "# Percentage of NaN in target\n",
    "print(df[\"invasion_risk_score\"].isna().mean() * 100, \"%\")\n",
    "\n",
    "# Show rows where target is NaN\n",
    "df[df[\"invasion_risk_score\"].isna()].head()"
   ]
  },
  {
   "cell_type": "code",
   "execution_count": 115,
   "id": "afb1e7f9",
   "metadata": {},
   "outputs": [
    {
     "name": "stdout",
     "output_type": "stream",
     "text": [
      "0\n",
      "0.0 %\n"
     ]
    },
    {
     "data": {
      "application/vnd.microsoft.datawrangler.viewer.v0+json": {
       "columns": [
        {
         "name": "index",
         "rawType": "int64",
         "type": "integer"
        },
        {
         "name": "fish_id",
         "rawType": "object",
         "type": "string"
        },
        {
         "name": "species",
         "rawType": "object",
         "type": "string"
        },
        {
         "name": "common_name",
         "rawType": "object",
         "type": "string"
        },
        {
         "name": "kingdom",
         "rawType": "object",
         "type": "string"
        },
        {
         "name": "phylum",
         "rawType": "object",
         "type": "string"
        },
        {
         "name": "class",
         "rawType": "object",
         "type": "string"
        },
        {
         "name": "order",
         "rawType": "object",
         "type": "string"
        },
        {
         "name": "family",
         "rawType": "object",
         "type": "string"
        },
        {
         "name": "genus",
         "rawType": "object",
         "type": "string"
        },
        {
         "name": "status",
         "rawType": "object",
         "type": "string"
        },
        {
         "name": "feeding_type",
         "rawType": "object",
         "type": "string"
        },
        {
         "name": "temp_max",
         "rawType": "float64",
         "type": "float"
        },
        {
         "name": "weight_max",
         "rawType": "float64",
         "type": "float"
        },
        {
         "name": "length_max",
         "rawType": "float64",
         "type": "float"
        },
        {
         "name": "temp_pref_min",
         "rawType": "float64",
         "type": "float"
        },
        {
         "name": "temp_pref_max",
         "rawType": "float64",
         "type": "float"
        },
        {
         "name": "fecundity_mean",
         "rawType": "float64",
         "type": "float"
        },
        {
         "name": "fecundity_min",
         "rawType": "float64",
         "type": "float"
        },
        {
         "name": "fecundity_max",
         "rawType": "float64",
         "type": "float"
        },
        {
         "name": "trophic_level",
         "rawType": "float64",
         "type": "float"
        },
        {
         "name": "trophic_level_estimate",
         "rawType": "float64",
         "type": "float"
        },
        {
         "name": "waterbody_name",
         "rawType": "object",
         "type": "string"
        },
        {
         "name": "wb_ph_min",
         "rawType": "float64",
         "type": "float"
        },
        {
         "name": "wb_ph_max",
         "rawType": "float64",
         "type": "float"
        },
        {
         "name": "wb_salinity_min",
         "rawType": "float64",
         "type": "float"
        },
        {
         "name": "wb_salinity_max",
         "rawType": "float64",
         "type": "float"
        },
        {
         "name": "wb_do_min",
         "rawType": "float64",
         "type": "float"
        },
        {
         "name": "wb_do_max",
         "rawType": "float64",
         "type": "float"
        },
        {
         "name": "wb_bod_min",
         "rawType": "float64",
         "type": "float"
        },
        {
         "name": "wb_bod_max",
         "rawType": "float64",
         "type": "float"
        },
        {
         "name": "wb_turbidity_min",
         "rawType": "float64",
         "type": "float"
        },
        {
         "name": "wb_turbidity_max",
         "rawType": "float64",
         "type": "float"
        },
        {
         "name": "wb_temp_min",
         "rawType": "float64",
         "type": "float"
        },
        {
         "name": "wb_temp_max",
         "rawType": "float64",
         "type": "float"
        },
        {
         "name": "invasion_risk_score",
         "rawType": "float64",
         "type": "float"
        }
       ],
       "ref": "7aa94477-920e-4c76-b4bf-d80bc7e2167b",
       "rows": [],
       "shape": {
        "columns": 35,
        "rows": 0
       }
      },
      "text/html": [
       "<div>\n",
       "<style scoped>\n",
       "    .dataframe tbody tr th:only-of-type {\n",
       "        vertical-align: middle;\n",
       "    }\n",
       "\n",
       "    .dataframe tbody tr th {\n",
       "        vertical-align: top;\n",
       "    }\n",
       "\n",
       "    .dataframe thead th {\n",
       "        text-align: right;\n",
       "    }\n",
       "</style>\n",
       "<table border=\"1\" class=\"dataframe\">\n",
       "  <thead>\n",
       "    <tr style=\"text-align: right;\">\n",
       "      <th></th>\n",
       "      <th>fish_id</th>\n",
       "      <th>species</th>\n",
       "      <th>common_name</th>\n",
       "      <th>kingdom</th>\n",
       "      <th>phylum</th>\n",
       "      <th>class</th>\n",
       "      <th>order</th>\n",
       "      <th>family</th>\n",
       "      <th>genus</th>\n",
       "      <th>status</th>\n",
       "      <th>...</th>\n",
       "      <th>wb_salinity_max</th>\n",
       "      <th>wb_do_min</th>\n",
       "      <th>wb_do_max</th>\n",
       "      <th>wb_bod_min</th>\n",
       "      <th>wb_bod_max</th>\n",
       "      <th>wb_turbidity_min</th>\n",
       "      <th>wb_turbidity_max</th>\n",
       "      <th>wb_temp_min</th>\n",
       "      <th>wb_temp_max</th>\n",
       "      <th>invasion_risk_score</th>\n",
       "    </tr>\n",
       "  </thead>\n",
       "  <tbody>\n",
       "  </tbody>\n",
       "</table>\n",
       "<p>0 rows × 35 columns</p>\n",
       "</div>"
      ],
      "text/plain": [
       "Empty DataFrame\n",
       "Columns: [fish_id, species, common_name, kingdom, phylum, class, order, family, genus, status, feeding_type, temp_max, weight_max, length_max, temp_pref_min, temp_pref_max, fecundity_mean, fecundity_min, fecundity_max, trophic_level, trophic_level_estimate, waterbody_name, wb_ph_min, wb_ph_max, wb_salinity_min, wb_salinity_max, wb_do_min, wb_do_max, wb_bod_min, wb_bod_max, wb_turbidity_min, wb_turbidity_max, wb_temp_min, wb_temp_max, invasion_risk_score]\n",
       "Index: []\n",
       "\n",
       "[0 rows x 35 columns]"
      ]
     },
     "execution_count": 115,
     "metadata": {},
     "output_type": "execute_result"
    }
   ],
   "source": [
    "# Count NaN values in target\n",
    "print(df[\"invasion_risk_score\"].isna().sum())\n",
    "\n",
    "# Percentage of NaN in target\n",
    "print(df[\"invasion_risk_score\"].isna().mean() * 100, \"%\")\n",
    "\n",
    "# Show rows where target is NaN\n",
    "df[df[\"invasion_risk_score\"].isna()].head()"
   ]
  },
  {
   "cell_type": "code",
   "execution_count": null,
   "id": "ca4e3156",
   "metadata": {},
   "outputs": [],
   "source": []
  },
  {
   "cell_type": "code",
   "execution_count": 116,
   "id": "40e5f2f1",
   "metadata": {},
   "outputs": [
    {
     "name": "stdout",
     "output_type": "stream",
     "text": [
      "['Established' 'Reported' 'Invasive' 'Failed' 'Extirpated' 'EN']\n"
     ]
    }
   ],
   "source": [
    "# Rename specific value in 'status' column\n",
    "df['status'] = df['status'].replace({'En': 'EN'})\n",
    "\n",
    "# Check\n",
    "print(df['status'].unique())"
   ]
  },
  {
   "cell_type": "code",
   "execution_count": 117,
   "id": "f8c39ad7",
   "metadata": {},
   "outputs": [
    {
     "data": {
      "application/vnd.microsoft.datawrangler.viewer.v0+json": {
       "columns": [
        {
         "name": "('status', 'invasion_risk_score')",
         "rawType": "object",
         "type": "unknown"
        },
        {
         "name": "count",
         "rawType": "int64",
         "type": "integer"
        }
       ],
       "ref": "970160cb-075e-4d0d-937c-2d0b01348753",
       "rows": [
        [
         "('Invasive', np.float64(0.9))",
         "889"
        ],
        [
         "('Established', np.float64(0.5))",
         "666"
        ],
        [
         "('Reported', np.float64(0.2))",
         "336"
        ],
        [
         "('EN', np.float64(0.3))",
         "232"
        ],
        [
         "('Failed', np.float64(0.1))",
         "201"
        ],
        [
         "('Extirpated', np.float64(0.0))",
         "18"
        ]
       ],
       "shape": {
        "columns": 1,
        "rows": 6
       }
      },
      "text/plain": [
       "status       invasion_risk_score\n",
       "Invasive     0.9                    889\n",
       "Established  0.5                    666\n",
       "Reported     0.2                    336\n",
       "EN           0.3                    232\n",
       "Failed       0.1                    201\n",
       "Extirpated   0.0                     18\n",
       "Name: count, dtype: int64"
      ]
     },
     "execution_count": 117,
     "metadata": {},
     "output_type": "execute_result"
    }
   ],
   "source": [
    "# Define numeric invasion risk mapping\n",
    "risk_mapping = {\n",
    "    'Failed': 0.1,        # Attempted introduction but failed to establish\n",
    "    'Reported': 0.2,      # Reported introduction, survival unknown\n",
    "    'EN': 0.3,            # Endangered - unlikely to become invasive\n",
    "    'Established': 0.5,   # Successfully established, potential for impact\n",
    "    'Invasive': 0.9,      # Confirmed negative ecological/economic impact\n",
    "    'Extirpated': 0.0     # No longer present, zero risk\n",
    "}\n",
    "\n",
    "# Ensure your status column matches the keys\n",
    "# df['status'] = df['status'].str.capitalize().str.strip()\n",
    "\n",
    "# Create numeric target\n",
    "df['invasion_risk_score'] = df['status'].map(risk_mapping)\n",
    "\n",
    "# Quick check\n",
    "df[['status', 'invasion_risk_score']].value_counts()\n"
   ]
  },
  {
   "cell_type": "code",
   "execution_count": 118,
   "id": "1cb8695e",
   "metadata": {},
   "outputs": [
    {
     "name": "stdout",
     "output_type": "stream",
     "text": [
      "0\n",
      "0.0 %\n"
     ]
    },
    {
     "data": {
      "application/vnd.microsoft.datawrangler.viewer.v0+json": {
       "columns": [
        {
         "name": "index",
         "rawType": "int64",
         "type": "integer"
        },
        {
         "name": "fish_id",
         "rawType": "object",
         "type": "string"
        },
        {
         "name": "species",
         "rawType": "object",
         "type": "string"
        },
        {
         "name": "common_name",
         "rawType": "object",
         "type": "string"
        },
        {
         "name": "kingdom",
         "rawType": "object",
         "type": "string"
        },
        {
         "name": "phylum",
         "rawType": "object",
         "type": "string"
        },
        {
         "name": "class",
         "rawType": "object",
         "type": "string"
        },
        {
         "name": "order",
         "rawType": "object",
         "type": "string"
        },
        {
         "name": "family",
         "rawType": "object",
         "type": "string"
        },
        {
         "name": "genus",
         "rawType": "object",
         "type": "string"
        },
        {
         "name": "status",
         "rawType": "object",
         "type": "string"
        },
        {
         "name": "feeding_type",
         "rawType": "object",
         "type": "string"
        },
        {
         "name": "temp_max",
         "rawType": "float64",
         "type": "float"
        },
        {
         "name": "weight_max",
         "rawType": "float64",
         "type": "float"
        },
        {
         "name": "length_max",
         "rawType": "float64",
         "type": "float"
        },
        {
         "name": "temp_pref_min",
         "rawType": "float64",
         "type": "float"
        },
        {
         "name": "temp_pref_max",
         "rawType": "float64",
         "type": "float"
        },
        {
         "name": "fecundity_mean",
         "rawType": "float64",
         "type": "float"
        },
        {
         "name": "fecundity_min",
         "rawType": "float64",
         "type": "float"
        },
        {
         "name": "fecundity_max",
         "rawType": "float64",
         "type": "float"
        },
        {
         "name": "trophic_level",
         "rawType": "float64",
         "type": "float"
        },
        {
         "name": "trophic_level_estimate",
         "rawType": "float64",
         "type": "float"
        },
        {
         "name": "waterbody_name",
         "rawType": "object",
         "type": "string"
        },
        {
         "name": "wb_ph_min",
         "rawType": "float64",
         "type": "float"
        },
        {
         "name": "wb_ph_max",
         "rawType": "float64",
         "type": "float"
        },
        {
         "name": "wb_salinity_min",
         "rawType": "float64",
         "type": "float"
        },
        {
         "name": "wb_salinity_max",
         "rawType": "float64",
         "type": "float"
        },
        {
         "name": "wb_do_min",
         "rawType": "float64",
         "type": "float"
        },
        {
         "name": "wb_do_max",
         "rawType": "float64",
         "type": "float"
        },
        {
         "name": "wb_bod_min",
         "rawType": "float64",
         "type": "float"
        },
        {
         "name": "wb_bod_max",
         "rawType": "float64",
         "type": "float"
        },
        {
         "name": "wb_turbidity_min",
         "rawType": "float64",
         "type": "float"
        },
        {
         "name": "wb_turbidity_max",
         "rawType": "float64",
         "type": "float"
        },
        {
         "name": "wb_temp_min",
         "rawType": "float64",
         "type": "float"
        },
        {
         "name": "wb_temp_max",
         "rawType": "float64",
         "type": "float"
        },
        {
         "name": "invasion_risk_score",
         "rawType": "float64",
         "type": "float"
        }
       ],
       "ref": "286df966-edfb-4609-beaf-4ecae8e94748",
       "rows": [],
       "shape": {
        "columns": 35,
        "rows": 0
       }
      },
      "text/html": [
       "<div>\n",
       "<style scoped>\n",
       "    .dataframe tbody tr th:only-of-type {\n",
       "        vertical-align: middle;\n",
       "    }\n",
       "\n",
       "    .dataframe tbody tr th {\n",
       "        vertical-align: top;\n",
       "    }\n",
       "\n",
       "    .dataframe thead th {\n",
       "        text-align: right;\n",
       "    }\n",
       "</style>\n",
       "<table border=\"1\" class=\"dataframe\">\n",
       "  <thead>\n",
       "    <tr style=\"text-align: right;\">\n",
       "      <th></th>\n",
       "      <th>fish_id</th>\n",
       "      <th>species</th>\n",
       "      <th>common_name</th>\n",
       "      <th>kingdom</th>\n",
       "      <th>phylum</th>\n",
       "      <th>class</th>\n",
       "      <th>order</th>\n",
       "      <th>family</th>\n",
       "      <th>genus</th>\n",
       "      <th>status</th>\n",
       "      <th>...</th>\n",
       "      <th>wb_salinity_max</th>\n",
       "      <th>wb_do_min</th>\n",
       "      <th>wb_do_max</th>\n",
       "      <th>wb_bod_min</th>\n",
       "      <th>wb_bod_max</th>\n",
       "      <th>wb_turbidity_min</th>\n",
       "      <th>wb_turbidity_max</th>\n",
       "      <th>wb_temp_min</th>\n",
       "      <th>wb_temp_max</th>\n",
       "      <th>invasion_risk_score</th>\n",
       "    </tr>\n",
       "  </thead>\n",
       "  <tbody>\n",
       "  </tbody>\n",
       "</table>\n",
       "<p>0 rows × 35 columns</p>\n",
       "</div>"
      ],
      "text/plain": [
       "Empty DataFrame\n",
       "Columns: [fish_id, species, common_name, kingdom, phylum, class, order, family, genus, status, feeding_type, temp_max, weight_max, length_max, temp_pref_min, temp_pref_max, fecundity_mean, fecundity_min, fecundity_max, trophic_level, trophic_level_estimate, waterbody_name, wb_ph_min, wb_ph_max, wb_salinity_min, wb_salinity_max, wb_do_min, wb_do_max, wb_bod_min, wb_bod_max, wb_turbidity_min, wb_turbidity_max, wb_temp_min, wb_temp_max, invasion_risk_score]\n",
       "Index: []\n",
       "\n",
       "[0 rows x 35 columns]"
      ]
     },
     "execution_count": 118,
     "metadata": {},
     "output_type": "execute_result"
    }
   ],
   "source": [
    "# Count NaN values in target\n",
    "print(df[\"invasion_risk_score\"].isna().sum())\n",
    "\n",
    "# Percentage of NaN in target\n",
    "print(df[\"invasion_risk_score\"].isna().mean() * 100, \"%\")\n",
    "\n",
    "# Show rows where target is NaN\n",
    "df[df[\"invasion_risk_score\"].isna()].head()"
   ]
  },
  {
   "cell_type": "code",
   "execution_count": 119,
   "id": "da84b1ef",
   "metadata": {},
   "outputs": [
    {
     "data": {
      "application/vnd.microsoft.datawrangler.viewer.v0+json": {
       "columns": [
        {
         "name": "index",
         "rawType": "int64",
         "type": "integer"
        },
        {
         "name": "fish_id",
         "rawType": "object",
         "type": "string"
        },
        {
         "name": "species",
         "rawType": "object",
         "type": "string"
        },
        {
         "name": "common_name",
         "rawType": "object",
         "type": "string"
        },
        {
         "name": "kingdom",
         "rawType": "object",
         "type": "string"
        },
        {
         "name": "phylum",
         "rawType": "object",
         "type": "string"
        },
        {
         "name": "class",
         "rawType": "object",
         "type": "string"
        },
        {
         "name": "order",
         "rawType": "object",
         "type": "string"
        },
        {
         "name": "family",
         "rawType": "object",
         "type": "string"
        },
        {
         "name": "genus",
         "rawType": "object",
         "type": "string"
        },
        {
         "name": "status",
         "rawType": "object",
         "type": "string"
        },
        {
         "name": "feeding_type",
         "rawType": "object",
         "type": "string"
        },
        {
         "name": "temp_max",
         "rawType": "float64",
         "type": "float"
        },
        {
         "name": "weight_max",
         "rawType": "float64",
         "type": "float"
        },
        {
         "name": "length_max",
         "rawType": "float64",
         "type": "float"
        },
        {
         "name": "temp_pref_min",
         "rawType": "float64",
         "type": "float"
        },
        {
         "name": "temp_pref_max",
         "rawType": "float64",
         "type": "float"
        },
        {
         "name": "fecundity_mean",
         "rawType": "float64",
         "type": "float"
        },
        {
         "name": "fecundity_min",
         "rawType": "float64",
         "type": "float"
        },
        {
         "name": "fecundity_max",
         "rawType": "float64",
         "type": "float"
        },
        {
         "name": "trophic_level",
         "rawType": "float64",
         "type": "float"
        },
        {
         "name": "trophic_level_estimate",
         "rawType": "float64",
         "type": "float"
        },
        {
         "name": "waterbody_name",
         "rawType": "object",
         "type": "string"
        },
        {
         "name": "wb_ph_min",
         "rawType": "float64",
         "type": "float"
        },
        {
         "name": "wb_ph_max",
         "rawType": "float64",
         "type": "float"
        },
        {
         "name": "wb_salinity_min",
         "rawType": "float64",
         "type": "float"
        },
        {
         "name": "wb_salinity_max",
         "rawType": "float64",
         "type": "float"
        },
        {
         "name": "wb_do_min",
         "rawType": "float64",
         "type": "float"
        },
        {
         "name": "wb_do_max",
         "rawType": "float64",
         "type": "float"
        },
        {
         "name": "wb_bod_min",
         "rawType": "float64",
         "type": "float"
        },
        {
         "name": "wb_bod_max",
         "rawType": "float64",
         "type": "float"
        },
        {
         "name": "wb_turbidity_min",
         "rawType": "float64",
         "type": "float"
        },
        {
         "name": "wb_turbidity_max",
         "rawType": "float64",
         "type": "float"
        },
        {
         "name": "wb_temp_min",
         "rawType": "float64",
         "type": "float"
        },
        {
         "name": "wb_temp_max",
         "rawType": "float64",
         "type": "float"
        },
        {
         "name": "invasion_risk_score",
         "rawType": "float64",
         "type": "float"
        }
       ],
       "ref": "9506bea7-230c-4815-a643-e41851007376",
       "rows": [
        [
         "0",
         "F0001",
         "Copella arnoldi",
         "Splash tetra",
         "Animalia",
         "Chordata",
         "Actinopterygii",
         "Characiformes",
         "Lebiasinidae",
         "Copella",
         "Established",
         "predator",
         null,
         "0.328",
         "3.489",
         "25.0",
         "29.0",
         "175.0",
         "150.0",
         "200.0",
         "3.26",
         null,
         "Amazon Basin",
         "5.5",
         "5.5",
         "0.0",
         "0.0",
         "5.5",
         "5.5",
         "2.0",
         "2.0",
         "4.0",
         "4.0",
         "27.0",
         "27.0",
         "0.5"
        ],
        [
         "1",
         "F0001",
         "Copella arnoldi",
         "Splash tetra",
         "Animalia",
         "Chordata",
         "Actinopterygii",
         "Characiformes",
         "Lebiasinidae",
         "Copella",
         "Established",
         "predator",
         null,
         "0.328",
         "3.489",
         "25.0",
         "29.0",
         "175.0",
         "150.0",
         "200.0",
         "3.26",
         null,
         "Demerara River Wismar",
         "6.2",
         "6.2",
         "0.0",
         "0.0",
         "6.0",
         "6.0",
         "3.0",
         "3.0",
         "6.0",
         "6.0",
         "27.0",
         "27.0",
         "0.5"
        ],
        [
         "2",
         "F0001",
         "Copella arnoldi",
         "Splash tetra",
         "Animalia",
         "Chordata",
         "Actinopterygii",
         "Characiformes",
         "Lebiasinidae",
         "Copella",
         "Established",
         "predator",
         null,
         "0.328",
         "3.489",
         "25.0",
         "29.0",
         "175.0",
         "150.0",
         "200.0",
         "3.26",
         null,
         "Yarakita River",
         "5.3",
         "5.3",
         "0.0",
         "0.0",
         "5.0",
         "5.0",
         "2.0",
         "2.0",
         "3.0",
         "3.0",
         "26.5",
         "26.5",
         "0.5"
        ],
        [
         "3",
         "F0001",
         "Copella arnoldi",
         "Splash tetra",
         "Animalia",
         "Chordata",
         "Actinopterygii",
         "Characiformes",
         "Lebiasinidae",
         "Copella",
         "Established",
         "predator",
         null,
         "0.328",
         "3.489",
         "25.0",
         "29.0",
         "175.0",
         "150.0",
         "200.0",
         "3.26",
         null,
         "Arauau River",
         "5.4",
         "5.4",
         "0.0",
         "0.0",
         "5.2",
         "5.2",
         "2.0",
         "2.0",
         "4.0",
         "4.0",
         "27.0",
         "27.0",
         "0.5"
        ],
        [
         "4",
         "F0001",
         "Copella arnoldi",
         "Splash tetra",
         "Animalia",
         "Chordata",
         "Actinopterygii",
         "Characiformes",
         "Lebiasinidae",
         "Copella",
         "Established",
         "predator",
         null,
         "0.328",
         "3.489",
         "25.0",
         "29.0",
         "175.0",
         "150.0",
         "200.0",
         "3.26",
         null,
         "Kurupung River, Upper Mazaruni District",
         "6.0",
         "6.0",
         "0.0",
         "0.0",
         "4.5",
         "4.5",
         "4.0",
         "4.0",
         "20.0",
         "20.0",
         "26.0",
         "26.0",
         "0.5"
        ]
       ],
       "shape": {
        "columns": 35,
        "rows": 5
       }
      },
      "text/html": [
       "<div>\n",
       "<style scoped>\n",
       "    .dataframe tbody tr th:only-of-type {\n",
       "        vertical-align: middle;\n",
       "    }\n",
       "\n",
       "    .dataframe tbody tr th {\n",
       "        vertical-align: top;\n",
       "    }\n",
       "\n",
       "    .dataframe thead th {\n",
       "        text-align: right;\n",
       "    }\n",
       "</style>\n",
       "<table border=\"1\" class=\"dataframe\">\n",
       "  <thead>\n",
       "    <tr style=\"text-align: right;\">\n",
       "      <th></th>\n",
       "      <th>fish_id</th>\n",
       "      <th>species</th>\n",
       "      <th>common_name</th>\n",
       "      <th>kingdom</th>\n",
       "      <th>phylum</th>\n",
       "      <th>class</th>\n",
       "      <th>order</th>\n",
       "      <th>family</th>\n",
       "      <th>genus</th>\n",
       "      <th>status</th>\n",
       "      <th>...</th>\n",
       "      <th>wb_salinity_max</th>\n",
       "      <th>wb_do_min</th>\n",
       "      <th>wb_do_max</th>\n",
       "      <th>wb_bod_min</th>\n",
       "      <th>wb_bod_max</th>\n",
       "      <th>wb_turbidity_min</th>\n",
       "      <th>wb_turbidity_max</th>\n",
       "      <th>wb_temp_min</th>\n",
       "      <th>wb_temp_max</th>\n",
       "      <th>invasion_risk_score</th>\n",
       "    </tr>\n",
       "  </thead>\n",
       "  <tbody>\n",
       "    <tr>\n",
       "      <th>0</th>\n",
       "      <td>F0001</td>\n",
       "      <td>Copella arnoldi</td>\n",
       "      <td>Splash tetra</td>\n",
       "      <td>Animalia</td>\n",
       "      <td>Chordata</td>\n",
       "      <td>Actinopterygii</td>\n",
       "      <td>Characiformes</td>\n",
       "      <td>Lebiasinidae</td>\n",
       "      <td>Copella</td>\n",
       "      <td>Established</td>\n",
       "      <td>...</td>\n",
       "      <td>0.0</td>\n",
       "      <td>5.5</td>\n",
       "      <td>5.5</td>\n",
       "      <td>2.0</td>\n",
       "      <td>2.0</td>\n",
       "      <td>4.0</td>\n",
       "      <td>4.0</td>\n",
       "      <td>27.0</td>\n",
       "      <td>27.0</td>\n",
       "      <td>0.5</td>\n",
       "    </tr>\n",
       "    <tr>\n",
       "      <th>1</th>\n",
       "      <td>F0001</td>\n",
       "      <td>Copella arnoldi</td>\n",
       "      <td>Splash tetra</td>\n",
       "      <td>Animalia</td>\n",
       "      <td>Chordata</td>\n",
       "      <td>Actinopterygii</td>\n",
       "      <td>Characiformes</td>\n",
       "      <td>Lebiasinidae</td>\n",
       "      <td>Copella</td>\n",
       "      <td>Established</td>\n",
       "      <td>...</td>\n",
       "      <td>0.0</td>\n",
       "      <td>6.0</td>\n",
       "      <td>6.0</td>\n",
       "      <td>3.0</td>\n",
       "      <td>3.0</td>\n",
       "      <td>6.0</td>\n",
       "      <td>6.0</td>\n",
       "      <td>27.0</td>\n",
       "      <td>27.0</td>\n",
       "      <td>0.5</td>\n",
       "    </tr>\n",
       "    <tr>\n",
       "      <th>2</th>\n",
       "      <td>F0001</td>\n",
       "      <td>Copella arnoldi</td>\n",
       "      <td>Splash tetra</td>\n",
       "      <td>Animalia</td>\n",
       "      <td>Chordata</td>\n",
       "      <td>Actinopterygii</td>\n",
       "      <td>Characiformes</td>\n",
       "      <td>Lebiasinidae</td>\n",
       "      <td>Copella</td>\n",
       "      <td>Established</td>\n",
       "      <td>...</td>\n",
       "      <td>0.0</td>\n",
       "      <td>5.0</td>\n",
       "      <td>5.0</td>\n",
       "      <td>2.0</td>\n",
       "      <td>2.0</td>\n",
       "      <td>3.0</td>\n",
       "      <td>3.0</td>\n",
       "      <td>26.5</td>\n",
       "      <td>26.5</td>\n",
       "      <td>0.5</td>\n",
       "    </tr>\n",
       "    <tr>\n",
       "      <th>3</th>\n",
       "      <td>F0001</td>\n",
       "      <td>Copella arnoldi</td>\n",
       "      <td>Splash tetra</td>\n",
       "      <td>Animalia</td>\n",
       "      <td>Chordata</td>\n",
       "      <td>Actinopterygii</td>\n",
       "      <td>Characiformes</td>\n",
       "      <td>Lebiasinidae</td>\n",
       "      <td>Copella</td>\n",
       "      <td>Established</td>\n",
       "      <td>...</td>\n",
       "      <td>0.0</td>\n",
       "      <td>5.2</td>\n",
       "      <td>5.2</td>\n",
       "      <td>2.0</td>\n",
       "      <td>2.0</td>\n",
       "      <td>4.0</td>\n",
       "      <td>4.0</td>\n",
       "      <td>27.0</td>\n",
       "      <td>27.0</td>\n",
       "      <td>0.5</td>\n",
       "    </tr>\n",
       "    <tr>\n",
       "      <th>4</th>\n",
       "      <td>F0001</td>\n",
       "      <td>Copella arnoldi</td>\n",
       "      <td>Splash tetra</td>\n",
       "      <td>Animalia</td>\n",
       "      <td>Chordata</td>\n",
       "      <td>Actinopterygii</td>\n",
       "      <td>Characiformes</td>\n",
       "      <td>Lebiasinidae</td>\n",
       "      <td>Copella</td>\n",
       "      <td>Established</td>\n",
       "      <td>...</td>\n",
       "      <td>0.0</td>\n",
       "      <td>4.5</td>\n",
       "      <td>4.5</td>\n",
       "      <td>4.0</td>\n",
       "      <td>4.0</td>\n",
       "      <td>20.0</td>\n",
       "      <td>20.0</td>\n",
       "      <td>26.0</td>\n",
       "      <td>26.0</td>\n",
       "      <td>0.5</td>\n",
       "    </tr>\n",
       "  </tbody>\n",
       "</table>\n",
       "<p>5 rows × 35 columns</p>\n",
       "</div>"
      ],
      "text/plain": [
       "  fish_id          species   common_name   kingdom    phylum           class  \\\n",
       "0   F0001  Copella arnoldi  Splash tetra  Animalia  Chordata  Actinopterygii   \n",
       "1   F0001  Copella arnoldi  Splash tetra  Animalia  Chordata  Actinopterygii   \n",
       "2   F0001  Copella arnoldi  Splash tetra  Animalia  Chordata  Actinopterygii   \n",
       "3   F0001  Copella arnoldi  Splash tetra  Animalia  Chordata  Actinopterygii   \n",
       "4   F0001  Copella arnoldi  Splash tetra  Animalia  Chordata  Actinopterygii   \n",
       "\n",
       "           order        family    genus       status  ... wb_salinity_max  \\\n",
       "0  Characiformes  Lebiasinidae  Copella  Established  ...             0.0   \n",
       "1  Characiformes  Lebiasinidae  Copella  Established  ...             0.0   \n",
       "2  Characiformes  Lebiasinidae  Copella  Established  ...             0.0   \n",
       "3  Characiformes  Lebiasinidae  Copella  Established  ...             0.0   \n",
       "4  Characiformes  Lebiasinidae  Copella  Established  ...             0.0   \n",
       "\n",
       "   wb_do_min  wb_do_max  wb_bod_min  wb_bod_max  wb_turbidity_min  \\\n",
       "0        5.5        5.5         2.0         2.0               4.0   \n",
       "1        6.0        6.0         3.0         3.0               6.0   \n",
       "2        5.0        5.0         2.0         2.0               3.0   \n",
       "3        5.2        5.2         2.0         2.0               4.0   \n",
       "4        4.5        4.5         4.0         4.0              20.0   \n",
       "\n",
       "   wb_turbidity_max  wb_temp_min  wb_temp_max  invasion_risk_score  \n",
       "0               4.0         27.0         27.0                  0.5  \n",
       "1               6.0         27.0         27.0                  0.5  \n",
       "2               3.0         26.5         26.5                  0.5  \n",
       "3               4.0         27.0         27.0                  0.5  \n",
       "4              20.0         26.0         26.0                  0.5  \n",
       "\n",
       "[5 rows x 35 columns]"
      ]
     },
     "execution_count": 119,
     "metadata": {},
     "output_type": "execute_result"
    }
   ],
   "source": [
    "df.head()"
   ]
  },
  {
   "cell_type": "code",
   "execution_count": 120,
   "id": "5e2dbd31",
   "metadata": {},
   "outputs": [],
   "source": [
    "df.to_csv(\"processed_dataset2.csv\", index=False)"
   ]
  }
 ],
 "metadata": {
  "kernelspec": {
   "display_name": "Python 3",
   "language": "python",
   "name": "python3"
  },
  "language_info": {
   "codemirror_mode": {
    "name": "ipython",
    "version": 3
   },
   "file_extension": ".py",
   "mimetype": "text/x-python",
   "name": "python",
   "nbconvert_exporter": "python",
   "pygments_lexer": "ipython3",
   "version": "3.13.7"
  }
 },
 "nbformat": 4,
 "nbformat_minor": 5
}
