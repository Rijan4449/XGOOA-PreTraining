{
 "cells": [
  {
   "cell_type": "markdown",
   "id": "e6f0f9f7",
   "metadata": {},
   "source": [
    "# Final Pre-Processing Step"
   ]
  },
  {
   "cell_type": "code",
   "execution_count": 2,
   "id": "3a572add",
   "metadata": {},
   "outputs": [],
   "source": [
    "import pandas as pd\n",
    "from sklearn.pipeline import Pipeline\n",
    "from sklearn.compose import ColumnTransformer\n",
    "from sklearn.impute import SimpleImputer\n",
    "from sklearn.preprocessing import OneHotEncoder\n",
    "import category_encoders as ce"
   ]
  },
  {
   "cell_type": "code",
   "execution_count": null,
   "id": "f0f89080",
   "metadata": {},
   "outputs": [
    {
     "name": "stdout",
     "output_type": "stream",
     "text": [
      "feeding_type\n",
      "predator               1062\n",
      "other                   492\n",
      "variable                274\n",
      "omnivore                175\n",
      "grazer                  142\n",
      "planktivore              70\n",
      "carnivore                41\n",
      "browser                  27\n",
      "insectivore              23\n",
      "benthic_insectivore      17\n",
      "herbivore                10\n",
      "scavenger                 7\n",
      "detritivore               2\n",
      "Name: count, dtype: int64\n"
     ]
    }
   ],
   "source": [
    "df = pd.read_csv(\"pre_encoded_final_final_final_final.csv\")\n",
    "print(df.feeding_type.value_counts())\n",
    "\n",
    "df.head()"
   ]
  },
  {
   "cell_type": "code",
   "execution_count": 23,
   "id": "d313f1a1",
   "metadata": {},
   "outputs": [
    {
     "name": "stdout",
     "output_type": "stream",
     "text": [
      "status\n",
      "Invasive       889\n",
      "Established    666\n",
      "Reported       336\n",
      "EN             232\n",
      "Failed         201\n",
      "Extirpated      18\n",
      "Name: count, dtype: int64\n"
     ]
    }
   ],
   "source": [
    "print(df.status.value_counts())"
   ]
  },
  {
   "cell_type": "code",
   "execution_count": 16,
   "id": "bcd9236b",
   "metadata": {},
   "outputs": [],
   "source": [
    "# Columns to drop (not used for modeling)\n",
    "drop_cols = ['fish_id', 'common_name']\n",
    "\n",
    "# High-cardinality categorical\n",
    "high_cardinality = ['species', 'waterbody_name']\n",
    "\n",
    "# Low-cardinality categorical\n",
    "low_cardinality = ['kingdom', 'phylum', 'class', 'order', 'family', 'genus', 'status', 'feeding_type']\n",
    "\n",
    "# Numeric features\n",
    "numeric_cols = [\n",
    "    'temp_max', 'weight_max', 'length_max', 'temp_pref_min', 'temp_pref_max',\n",
    "    'fecundity_mean', 'fecundity_min', 'fecundity_max',\n",
    "    'trophic_level_estimate', 'trophic_level',\n",
    "    'wb_ph_min', 'wb_ph_max', 'wb_salinity_min', 'wb_salinity_max',\n",
    "    'wb_do_min', 'wb_do_max', 'wb_bod_min', 'wb_bod_max',\n",
    "    'wb_turbidity_min', 'wb_turbidity_max', 'wb_temp_min', 'wb_temp_max'\n",
    "]\n",
    "\n",
    "# Import necessary libraries\n",
    "from sklearn.pipeline import Pipeline\n",
    "from sklearn.compose import ColumnTransformer\n",
    "from sklearn.impute import SimpleImputer\n",
    "from sklearn.preprocessing import OneHotEncoder\n",
    "import category_encoders as ce\n",
    "\n",
    "# Define transformers\n",
    "numeric_transformer = Pipeline([\n",
    "    ('imputer', SimpleImputer(strategy='median'))\n",
    "])\n",
    "\n",
    "low_card_transformer = Pipeline([\n",
    "    ('imputer', SimpleImputer(strategy='most_frequent')),\n",
    "    ('onehot', OneHotEncoder(handle_unknown='ignore'))\n",
    "])\n",
    "\n",
    "high_card_transformer = Pipeline([\n",
    "    ('imputer', SimpleImputer(strategy='most_frequent')),\n",
    "    ('target', ce.TargetEncoder())\n",
    "])\n",
    "\n",
    "# Column transformer\n",
    "preprocessor = ColumnTransformer([\n",
    "    ('num', numeric_transformer, numeric_cols),\n",
    "    ('low_cat', low_card_transformer, low_cardinality),\n",
    "    ('high_cat', high_card_transformer, high_cardinality)\n",
    "], remainder='drop')"
   ]
  },
  {
   "cell_type": "code",
   "execution_count": 24,
   "id": "c7d96b93",
   "metadata": {},
   "outputs": [
    {
     "data": {
      "application/vnd.microsoft.datawrangler.viewer.v0+json": {
       "columns": [
        {
         "name": "('status', 'invasion_risk_score')",
         "rawType": "object",
         "type": "unknown"
        },
        {
         "name": "count",
         "rawType": "int64",
         "type": "integer"
        }
       ],
       "ref": "0fc800f1-207e-49fa-ad69-7d3fc9fbbb9a",
       "rows": [
        [
         "('Invasive', np.float64(0.9))",
         "889"
        ],
        [
         "('Established', np.float64(0.7))",
         "666"
        ],
        [
         "('Reported', np.float64(0.2))",
         "336"
        ],
        [
         "('Failed', np.float64(0.1))",
         "201"
        ],
        [
         "('Extirpated', np.float64(0.0))",
         "18"
        ]
       ],
       "shape": {
        "columns": 1,
        "rows": 5
       }
      },
      "text/plain": [
       "status       invasion_risk_score\n",
       "Invasive     0.9                    889\n",
       "Established  0.7                    666\n",
       "Reported     0.2                    336\n",
       "Failed       0.1                    201\n",
       "Extirpated   0.0                     18\n",
       "Name: count, dtype: int64"
      ]
     },
     "execution_count": 24,
     "metadata": {},
     "output_type": "execute_result"
    }
   ],
   "source": [
    "# Define numeric invasion risk mapping\n",
    "risk_mapping = {\n",
    "    'Failed': 0.1,        # Attempted introduction but failed to establish\n",
    "    'Reported': 0.2,      # Reported introduction, survival unknown\n",
    "    'EN': 0.3,            # Endangered - unlikely to become invasive\n",
    "    'Established': 0.7,   # Successfully established, potential for impact\n",
    "    'Invasive': 0.9,      # Confirmed negative ecological/economic impact\n",
    "    'Extirpated': 0.0     # No longer present, zero risk\n",
    "}\n",
    "\n",
    "# Ensure your status column matches the keys\n",
    "df['status'] = df['status'].str.capitalize().str.strip()\n",
    "\n",
    "# Create numeric target\n",
    "df['invasion_risk_score'] = df['status'].map(risk_mapping)\n",
    "\n",
    "# Quick check\n",
    "df[['status', 'invasion_risk_score']].value_counts()\n"
   ]
  },
  {
   "cell_type": "code",
   "execution_count": 25,
   "id": "a03aceac",
   "metadata": {},
   "outputs": [],
   "source": [
    "y = df['invasion_risk_score']"
   ]
  },
  {
   "cell_type": "code",
   "execution_count": null,
   "id": "da84b1ef",
   "metadata": {},
   "outputs": [],
   "source": [
    "df.head()"
   ]
  },
  {
   "cell_type": "code",
   "execution_count": 27,
   "id": "5e2dbd31",
   "metadata": {},
   "outputs": [],
   "source": [
    "df.to_csv(\"processed_dataset.csv\", index=False)"
   ]
  }
 ],
 "metadata": {
  "kernelspec": {
   "display_name": "Python 3",
   "language": "python",
   "name": "python3"
  },
  "language_info": {
   "codemirror_mode": {
    "name": "ipython",
    "version": 3
   },
   "file_extension": ".py",
   "mimetype": "text/x-python",
   "name": "python",
   "nbconvert_exporter": "python",
   "pygments_lexer": "ipython3",
   "version": "3.13.7"
  }
 },
 "nbformat": 4,
 "nbformat_minor": 5
}
