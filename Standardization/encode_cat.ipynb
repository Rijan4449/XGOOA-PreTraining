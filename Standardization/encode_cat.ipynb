{
 "cells": [
  {
   "cell_type": "markdown",
   "id": "166490ff",
   "metadata": {},
   "source": [
    "# Encode categories"
   ]
  },
  {
   "cell_type": "code",
   "execution_count": null,
   "id": "ea5ac839",
   "metadata": {},
   "outputs": [],
   "source": []
  }
 ],
 "metadata": {
  "language_info": {
   "name": "python"
  }
 },
 "nbformat": 4,
 "nbformat_minor": 5
}
