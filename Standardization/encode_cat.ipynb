{
 "cells": [
  {
   "cell_type": "markdown",
   "id": "166490ff",
   "metadata": {},
   "source": [
    "# Encode categories"
   ]
  },
  {
   "cell_type": "code",
   "execution_count": 6,
   "id": "ea5ac839",
   "metadata": {},
   "outputs": [
    {
     "name": "stdout",
     "output_type": "stream",
     "text": [
      "Collecting category_encoders\n",
      "  Downloading category_encoders-2.8.1-py3-none-any.whl.metadata (7.9 kB)\n",
      "Requirement already satisfied: numpy>=1.14.0 in c:\\users\\princ\\appdata\\local\\programs\\python\\python313\\lib\\site-packages (from category_encoders) (2.3.3)\n",
      "Requirement already satisfied: pandas>=1.0.5 in c:\\users\\princ\\appdata\\local\\programs\\python\\python313\\lib\\site-packages (from category_encoders) (2.3.2)\n",
      "Collecting patsy>=0.5.1 (from category_encoders)\n",
      "  Downloading patsy-1.0.1-py2.py3-none-any.whl.metadata (3.3 kB)\n",
      "Requirement already satisfied: scikit-learn>=1.6.0 in c:\\users\\princ\\appdata\\local\\programs\\python\\python313\\lib\\site-packages (from category_encoders) (1.7.2)\n",
      "Requirement already satisfied: scipy>=1.0.0 in c:\\users\\princ\\appdata\\local\\programs\\python\\python313\\lib\\site-packages (from category_encoders) (1.16.2)\n",
      "Collecting statsmodels>=0.9.0 (from category_encoders)\n",
      "  Downloading statsmodels-0.14.5-cp313-cp313-win_amd64.whl.metadata (9.8 kB)\n",
      "Requirement already satisfied: python-dateutil>=2.8.2 in c:\\users\\princ\\appdata\\roaming\\python\\python313\\site-packages (from pandas>=1.0.5->category_encoders) (2.9.0.post0)\n",
      "Requirement already satisfied: pytz>=2020.1 in c:\\users\\princ\\appdata\\local\\programs\\python\\python313\\lib\\site-packages (from pandas>=1.0.5->category_encoders) (2025.2)\n",
      "Requirement already satisfied: tzdata>=2022.7 in c:\\users\\princ\\appdata\\local\\programs\\python\\python313\\lib\\site-packages (from pandas>=1.0.5->category_encoders) (2025.2)\n",
      "Requirement already satisfied: six>=1.5 in c:\\users\\princ\\appdata\\roaming\\python\\python313\\site-packages (from python-dateutil>=2.8.2->pandas>=1.0.5->category_encoders) (1.17.0)\n",
      "Requirement already satisfied: joblib>=1.2.0 in c:\\users\\princ\\appdata\\local\\programs\\python\\python313\\lib\\site-packages (from scikit-learn>=1.6.0->category_encoders) (1.5.2)\n",
      "Requirement already satisfied: threadpoolctl>=3.1.0 in c:\\users\\princ\\appdata\\local\\programs\\python\\python313\\lib\\site-packages (from scikit-learn>=1.6.0->category_encoders) (3.6.0)\n",
      "Requirement already satisfied: packaging>=21.3 in c:\\users\\princ\\appdata\\roaming\\python\\python313\\site-packages (from statsmodels>=0.9.0->category_encoders) (25.0)\n",
      "Downloading category_encoders-2.8.1-py3-none-any.whl (85 kB)\n",
      "Downloading patsy-1.0.1-py2.py3-none-any.whl (232 kB)\n",
      "Downloading statsmodels-0.14.5-cp313-cp313-win_amd64.whl (9.6 MB)\n",
      "   ---------------------------------------- 0.0/9.6 MB ? eta -:--:--\n",
      "   -------- ------------------------------- 2.1/9.6 MB 10.0 MB/s eta 0:00:01\n",
      "   ---------------------------------------  9.4/9.6 MB 23.7 MB/s eta 0:00:01\n",
      "   ---------------------------------------- 9.6/9.6 MB 19.3 MB/s  0:00:00\n",
      "Installing collected packages: patsy, statsmodels, category_encoders\n",
      "\n",
      "   ---------------------------------------- 0/3 [patsy]\n",
      "   ---------------------------------------- 0/3 [patsy]\n",
      "   ---------------------------------------- 0/3 [patsy]\n",
      "   ---------------------------------------- 0/3 [patsy]\n",
      "   ---------------------------------------- 0/3 [patsy]\n",
      "   ------------- -------------------------- 1/3 [statsmodels]\n",
      "   ------------- -------------------------- 1/3 [statsmodels]\n",
      "   ------------- -------------------------- 1/3 [statsmodels]\n",
      "   ------------- -------------------------- 1/3 [statsmodels]\n",
      "   ------------- -------------------------- 1/3 [statsmodels]\n",
      "   ------------- -------------------------- 1/3 [statsmodels]\n",
      "   ------------- -------------------------- 1/3 [statsmodels]\n",
      "   ------------- -------------------------- 1/3 [statsmodels]\n",
      "   ------------- -------------------------- 1/3 [statsmodels]\n",
      "   ------------- -------------------------- 1/3 [statsmodels]\n",
      "   ------------- -------------------------- 1/3 [statsmodels]\n",
      "   ------------- -------------------------- 1/3 [statsmodels]\n",
      "   ------------- -------------------------- 1/3 [statsmodels]\n",
      "   ------------- -------------------------- 1/3 [statsmodels]\n",
      "   ------------- -------------------------- 1/3 [statsmodels]\n",
      "   ------------- -------------------------- 1/3 [statsmodels]\n",
      "   ------------- -------------------------- 1/3 [statsmodels]\n",
      "   ------------- -------------------------- 1/3 [statsmodels]\n",
      "   ------------- -------------------------- 1/3 [statsmodels]\n",
      "   ------------- -------------------------- 1/3 [statsmodels]\n",
      "   ------------- -------------------------- 1/3 [statsmodels]\n",
      "   ------------- -------------------------- 1/3 [statsmodels]\n",
      "   ------------- -------------------------- 1/3 [statsmodels]\n",
      "   ------------- -------------------------- 1/3 [statsmodels]\n",
      "   ------------- -------------------------- 1/3 [statsmodels]\n",
      "   ------------- -------------------------- 1/3 [statsmodels]\n",
      "   ------------- -------------------------- 1/3 [statsmodels]\n",
      "   ------------- -------------------------- 1/3 [statsmodels]\n",
      "   ------------- -------------------------- 1/3 [statsmodels]\n",
      "   ------------- -------------------------- 1/3 [statsmodels]\n",
      "   ------------- -------------------------- 1/3 [statsmodels]\n",
      "   ------------- -------------------------- 1/3 [statsmodels]\n",
      "   ------------- -------------------------- 1/3 [statsmodels]\n",
      "   ------------- -------------------------- 1/3 [statsmodels]\n",
      "   ------------- -------------------------- 1/3 [statsmodels]\n",
      "   ------------- -------------------------- 1/3 [statsmodels]\n",
      "   ------------- -------------------------- 1/3 [statsmodels]\n",
      "   ------------- -------------------------- 1/3 [statsmodels]\n",
      "   ------------- -------------------------- 1/3 [statsmodels]\n",
      "   ------------- -------------------------- 1/3 [statsmodels]\n",
      "   ------------- -------------------------- 1/3 [statsmodels]\n",
      "   ------------- -------------------------- 1/3 [statsmodels]\n",
      "   ------------- -------------------------- 1/3 [statsmodels]\n",
      "   ------------- -------------------------- 1/3 [statsmodels]\n",
      "   ------------- -------------------------- 1/3 [statsmodels]\n",
      "   ------------- -------------------------- 1/3 [statsmodels]\n",
      "   ------------- -------------------------- 1/3 [statsmodels]\n",
      "   ------------- -------------------------- 1/3 [statsmodels]\n",
      "   ------------- -------------------------- 1/3 [statsmodels]\n",
      "   ------------- -------------------------- 1/3 [statsmodels]\n",
      "   ------------- -------------------------- 1/3 [statsmodels]\n",
      "   ------------- -------------------------- 1/3 [statsmodels]\n",
      "   ------------- -------------------------- 1/3 [statsmodels]\n",
      "   ------------- -------------------------- 1/3 [statsmodels]\n",
      "   ------------- -------------------------- 1/3 [statsmodels]\n",
      "   ------------- -------------------------- 1/3 [statsmodels]\n",
      "   ------------- -------------------------- 1/3 [statsmodels]\n",
      "   ------------- -------------------------- 1/3 [statsmodels]\n",
      "   ------------- -------------------------- 1/3 [statsmodels]\n",
      "   ------------- -------------------------- 1/3 [statsmodels]\n",
      "   ------------- -------------------------- 1/3 [statsmodels]\n",
      "   ------------- -------------------------- 1/3 [statsmodels]\n",
      "   ------------- -------------------------- 1/3 [statsmodels]\n",
      "   ------------- -------------------------- 1/3 [statsmodels]\n",
      "   ------------- -------------------------- 1/3 [statsmodels]\n",
      "   ------------- -------------------------- 1/3 [statsmodels]\n",
      "   ------------- -------------------------- 1/3 [statsmodels]\n",
      "   ------------- -------------------------- 1/3 [statsmodels]\n",
      "   ------------- -------------------------- 1/3 [statsmodels]\n",
      "   ------------- -------------------------- 1/3 [statsmodels]\n",
      "   ------------- -------------------------- 1/3 [statsmodels]\n",
      "   ------------- -------------------------- 1/3 [statsmodels]\n",
      "   ------------- -------------------------- 1/3 [statsmodels]\n",
      "   ------------- -------------------------- 1/3 [statsmodels]\n",
      "   ------------- -------------------------- 1/3 [statsmodels]\n",
      "   ------------- -------------------------- 1/3 [statsmodels]\n",
      "   ------------- -------------------------- 1/3 [statsmodels]\n",
      "   ------------- -------------------------- 1/3 [statsmodels]\n",
      "   ------------- -------------------------- 1/3 [statsmodels]\n",
      "   ------------- -------------------------- 1/3 [statsmodels]\n",
      "   ------------- -------------------------- 1/3 [statsmodels]\n",
      "   ------------- -------------------------- 1/3 [statsmodels]\n",
      "   ------------- -------------------------- 1/3 [statsmodels]\n",
      "   ------------- -------------------------- 1/3 [statsmodels]\n",
      "   ------------- -------------------------- 1/3 [statsmodels]\n",
      "   ------------- -------------------------- 1/3 [statsmodels]\n",
      "   ------------- -------------------------- 1/3 [statsmodels]\n",
      "   ------------- -------------------------- 1/3 [statsmodels]\n",
      "   ------------- -------------------------- 1/3 [statsmodels]\n",
      "   ------------- -------------------------- 1/3 [statsmodels]\n",
      "   ------------- -------------------------- 1/3 [statsmodels]\n",
      "   ------------- -------------------------- 1/3 [statsmodels]\n",
      "   ------------- -------------------------- 1/3 [statsmodels]\n",
      "   ------------- -------------------------- 1/3 [statsmodels]\n",
      "   ------------- -------------------------- 1/3 [statsmodels]\n",
      "   ------------- -------------------------- 1/3 [statsmodels]\n",
      "   ------------- -------------------------- 1/3 [statsmodels]\n",
      "   ------------- -------------------------- 1/3 [statsmodels]\n",
      "   ------------- -------------------------- 1/3 [statsmodels]\n",
      "   ------------- -------------------------- 1/3 [statsmodels]\n",
      "   ------------- -------------------------- 1/3 [statsmodels]\n",
      "   ------------- -------------------------- 1/3 [statsmodels]\n",
      "   ------------- -------------------------- 1/3 [statsmodels]\n",
      "   ------------- -------------------------- 1/3 [statsmodels]\n",
      "   ------------- -------------------------- 1/3 [statsmodels]\n",
      "   ------------- -------------------------- 1/3 [statsmodels]\n",
      "   ------------- -------------------------- 1/3 [statsmodels]\n",
      "   ------------- -------------------------- 1/3 [statsmodels]\n",
      "   ------------- -------------------------- 1/3 [statsmodels]\n",
      "   ------------- -------------------------- 1/3 [statsmodels]\n",
      "   ------------- -------------------------- 1/3 [statsmodels]\n",
      "   ------------- -------------------------- 1/3 [statsmodels]\n",
      "   ------------- -------------------------- 1/3 [statsmodels]\n",
      "   ------------- -------------------------- 1/3 [statsmodels]\n",
      "   ------------- -------------------------- 1/3 [statsmodels]\n",
      "   ------------- -------------------------- 1/3 [statsmodels]\n",
      "   ------------- -------------------------- 1/3 [statsmodels]\n",
      "   ------------- -------------------------- 1/3 [statsmodels]\n",
      "   ------------- -------------------------- 1/3 [statsmodels]\n",
      "   ------------- -------------------------- 1/3 [statsmodels]\n",
      "   ------------- -------------------------- 1/3 [statsmodels]\n",
      "   ------------- -------------------------- 1/3 [statsmodels]\n",
      "   ------------- -------------------------- 1/3 [statsmodels]\n",
      "   ------------- -------------------------- 1/3 [statsmodels]\n",
      "   ------------- -------------------------- 1/3 [statsmodels]\n",
      "   ------------- -------------------------- 1/3 [statsmodels]\n",
      "   ------------- -------------------------- 1/3 [statsmodels]\n",
      "   ------------- -------------------------- 1/3 [statsmodels]\n",
      "   ------------- -------------------------- 1/3 [statsmodels]\n",
      "   ------------- -------------------------- 1/3 [statsmodels]\n",
      "   ------------- -------------------------- 1/3 [statsmodels]\n",
      "   ------------- -------------------------- 1/3 [statsmodels]\n",
      "   ------------- -------------------------- 1/3 [statsmodels]\n",
      "   ------------- -------------------------- 1/3 [statsmodels]\n",
      "   ------------- -------------------------- 1/3 [statsmodels]\n",
      "   ------------- -------------------------- 1/3 [statsmodels]\n",
      "   ------------- -------------------------- 1/3 [statsmodels]\n",
      "   ------------- -------------------------- 1/3 [statsmodels]\n",
      "   ------------- -------------------------- 1/3 [statsmodels]\n",
      "   ------------- -------------------------- 1/3 [statsmodels]\n",
      "   ------------- -------------------------- 1/3 [statsmodels]\n",
      "   ------------- -------------------------- 1/3 [statsmodels]\n",
      "   ------------- -------------------------- 1/3 [statsmodels]\n",
      "   ------------- -------------------------- 1/3 [statsmodels]\n",
      "   ------------- -------------------------- 1/3 [statsmodels]\n",
      "   ------------- -------------------------- 1/3 [statsmodels]\n",
      "   ------------- -------------------------- 1/3 [statsmodels]\n",
      "   ------------- -------------------------- 1/3 [statsmodels]\n",
      "   ------------- -------------------------- 1/3 [statsmodels]\n",
      "   ------------- -------------------------- 1/3 [statsmodels]\n",
      "   ------------- -------------------------- 1/3 [statsmodels]\n",
      "   ------------- -------------------------- 1/3 [statsmodels]\n",
      "   ------------- -------------------------- 1/3 [statsmodels]\n",
      "   ------------- -------------------------- 1/3 [statsmodels]\n",
      "   ------------- -------------------------- 1/3 [statsmodels]\n",
      "   ------------- -------------------------- 1/3 [statsmodels]\n",
      "   ------------- -------------------------- 1/3 [statsmodels]\n",
      "   ------------- -------------------------- 1/3 [statsmodels]\n",
      "   ------------- -------------------------- 1/3 [statsmodels]\n",
      "   ------------- -------------------------- 1/3 [statsmodels]\n",
      "   ------------- -------------------------- 1/3 [statsmodels]\n",
      "   ------------- -------------------------- 1/3 [statsmodels]\n",
      "   ------------- -------------------------- 1/3 [statsmodels]\n",
      "   ------------- -------------------------- 1/3 [statsmodels]\n",
      "   ------------- -------------------------- 1/3 [statsmodels]\n",
      "   ------------- -------------------------- 1/3 [statsmodels]\n",
      "   ------------- -------------------------- 1/3 [statsmodels]\n",
      "   ------------- -------------------------- 1/3 [statsmodels]\n",
      "   ------------- -------------------------- 1/3 [statsmodels]\n",
      "   ------------- -------------------------- 1/3 [statsmodels]\n",
      "   ------------- -------------------------- 1/3 [statsmodels]\n",
      "   ------------- -------------------------- 1/3 [statsmodels]\n",
      "   ------------- -------------------------- 1/3 [statsmodels]\n",
      "   ------------- -------------------------- 1/3 [statsmodels]\n",
      "   ------------- -------------------------- 1/3 [statsmodels]\n",
      "   ------------- -------------------------- 1/3 [statsmodels]\n",
      "   ------------- -------------------------- 1/3 [statsmodels]\n",
      "   ------------- -------------------------- 1/3 [statsmodels]\n",
      "   ------------- -------------------------- 1/3 [statsmodels]\n",
      "   ------------- -------------------------- 1/3 [statsmodels]\n",
      "   ------------- -------------------------- 1/3 [statsmodels]\n",
      "   ------------- -------------------------- 1/3 [statsmodels]\n",
      "   ------------- -------------------------- 1/3 [statsmodels]\n",
      "   ------------- -------------------------- 1/3 [statsmodels]\n",
      "   ------------- -------------------------- 1/3 [statsmodels]\n",
      "   ------------- -------------------------- 1/3 [statsmodels]\n",
      "   ------------- -------------------------- 1/3 [statsmodels]\n",
      "   ------------- -------------------------- 1/3 [statsmodels]\n",
      "   ------------- -------------------------- 1/3 [statsmodels]\n",
      "   ------------- -------------------------- 1/3 [statsmodels]\n",
      "   ------------- -------------------------- 1/3 [statsmodels]\n",
      "   ------------- -------------------------- 1/3 [statsmodels]\n",
      "   ------------- -------------------------- 1/3 [statsmodels]\n",
      "   ------------- -------------------------- 1/3 [statsmodels]\n",
      "   ------------- -------------------------- 1/3 [statsmodels]\n",
      "   ------------- -------------------------- 1/3 [statsmodels]\n",
      "   ------------- -------------------------- 1/3 [statsmodels]\n",
      "   ------------- -------------------------- 1/3 [statsmodels]\n",
      "   ------------- -------------------------- 1/3 [statsmodels]\n",
      "   ------------- -------------------------- 1/3 [statsmodels]\n",
      "   ------------- -------------------------- 1/3 [statsmodels]\n",
      "   ------------- -------------------------- 1/3 [statsmodels]\n",
      "   ------------- -------------------------- 1/3 [statsmodels]\n",
      "   ------------- -------------------------- 1/3 [statsmodels]\n",
      "   ------------- -------------------------- 1/3 [statsmodels]\n",
      "   ------------- -------------------------- 1/3 [statsmodels]\n",
      "   ------------- -------------------------- 1/3 [statsmodels]\n",
      "   ------------- -------------------------- 1/3 [statsmodels]\n",
      "   ------------- -------------------------- 1/3 [statsmodels]\n",
      "   ------------- -------------------------- 1/3 [statsmodels]\n",
      "   ------------- -------------------------- 1/3 [statsmodels]\n",
      "   ------------- -------------------------- 1/3 [statsmodels]\n",
      "   ------------- -------------------------- 1/3 [statsmodels]\n",
      "   ------------- -------------------------- 1/3 [statsmodels]\n",
      "   ------------- -------------------------- 1/3 [statsmodels]\n",
      "   ------------- -------------------------- 1/3 [statsmodels]\n",
      "   ------------- -------------------------- 1/3 [statsmodels]\n",
      "   ------------- -------------------------- 1/3 [statsmodels]\n",
      "   ------------- -------------------------- 1/3 [statsmodels]\n",
      "   ------------- -------------------------- 1/3 [statsmodels]\n",
      "   ------------- -------------------------- 1/3 [statsmodels]\n",
      "   ------------- -------------------------- 1/3 [statsmodels]\n",
      "   ------------- -------------------------- 1/3 [statsmodels]\n",
      "   ------------- -------------------------- 1/3 [statsmodels]\n",
      "   ------------- -------------------------- 1/3 [statsmodels]\n",
      "   ------------- -------------------------- 1/3 [statsmodels]\n",
      "   ------------- -------------------------- 1/3 [statsmodels]\n",
      "   ------------- -------------------------- 1/3 [statsmodels]\n",
      "   ------------- -------------------------- 1/3 [statsmodels]\n",
      "   ------------- -------------------------- 1/3 [statsmodels]\n",
      "   ------------- -------------------------- 1/3 [statsmodels]\n",
      "   ------------- -------------------------- 1/3 [statsmodels]\n",
      "   ------------- -------------------------- 1/3 [statsmodels]\n",
      "   ------------- -------------------------- 1/3 [statsmodels]\n",
      "   ------------- -------------------------- 1/3 [statsmodels]\n",
      "   ------------- -------------------------- 1/3 [statsmodels]\n",
      "   ------------- -------------------------- 1/3 [statsmodels]\n",
      "   ------------- -------------------------- 1/3 [statsmodels]\n",
      "   ------------- -------------------------- 1/3 [statsmodels]\n",
      "   ------------- -------------------------- 1/3 [statsmodels]\n",
      "   ------------- -------------------------- 1/3 [statsmodels]\n",
      "   ------------- -------------------------- 1/3 [statsmodels]\n",
      "   ------------- -------------------------- 1/3 [statsmodels]\n",
      "   ------------- -------------------------- 1/3 [statsmodels]\n",
      "   ------------- -------------------------- 1/3 [statsmodels]\n",
      "   ------------- -------------------------- 1/3 [statsmodels]\n",
      "   ------------- -------------------------- 1/3 [statsmodels]\n",
      "   ------------- -------------------------- 1/3 [statsmodels]\n",
      "   ------------- -------------------------- 1/3 [statsmodels]\n",
      "   ------------- -------------------------- 1/3 [statsmodels]\n",
      "   ------------- -------------------------- 1/3 [statsmodels]\n",
      "   ------------- -------------------------- 1/3 [statsmodels]\n",
      "   ------------- -------------------------- 1/3 [statsmodels]\n",
      "   ------------- -------------------------- 1/3 [statsmodels]\n",
      "   ------------- -------------------------- 1/3 [statsmodels]\n",
      "   ------------- -------------------------- 1/3 [statsmodels]\n",
      "   ------------- -------------------------- 1/3 [statsmodels]\n",
      "   ------------- -------------------------- 1/3 [statsmodels]\n",
      "   ------------- -------------------------- 1/3 [statsmodels]\n",
      "   ------------- -------------------------- 1/3 [statsmodels]\n",
      "   ------------- -------------------------- 1/3 [statsmodels]\n",
      "   ------------- -------------------------- 1/3 [statsmodels]\n",
      "   ------------- -------------------------- 1/3 [statsmodels]\n",
      "   ------------- -------------------------- 1/3 [statsmodels]\n",
      "   ------------- -------------------------- 1/3 [statsmodels]\n",
      "   ------------- -------------------------- 1/3 [statsmodels]\n",
      "   ------------- -------------------------- 1/3 [statsmodels]\n",
      "   ------------- -------------------------- 1/3 [statsmodels]\n",
      "   ------------- -------------------------- 1/3 [statsmodels]\n",
      "   ------------- -------------------------- 1/3 [statsmodels]\n",
      "   ------------- -------------------------- 1/3 [statsmodels]\n",
      "   ------------- -------------------------- 1/3 [statsmodels]\n",
      "   ------------- -------------------------- 1/3 [statsmodels]\n",
      "   ------------- -------------------------- 1/3 [statsmodels]\n",
      "   ------------- -------------------------- 1/3 [statsmodels]\n",
      "   ------------- -------------------------- 1/3 [statsmodels]\n",
      "   ------------- -------------------------- 1/3 [statsmodels]\n",
      "   ------------- -------------------------- 1/3 [statsmodels]\n",
      "   ------------- -------------------------- 1/3 [statsmodels]\n",
      "   ------------- -------------------------- 1/3 [statsmodels]\n",
      "   ------------- -------------------------- 1/3 [statsmodels]\n",
      "   ------------- -------------------------- 1/3 [statsmodels]\n",
      "   ------------- -------------------------- 1/3 [statsmodels]\n",
      "   ------------- -------------------------- 1/3 [statsmodels]\n",
      "   ------------- -------------------------- 1/3 [statsmodels]\n",
      "   ------------- -------------------------- 1/3 [statsmodels]\n",
      "   ------------- -------------------------- 1/3 [statsmodels]\n",
      "   ------------- -------------------------- 1/3 [statsmodels]\n",
      "   ------------- -------------------------- 1/3 [statsmodels]\n",
      "   ------------- -------------------------- 1/3 [statsmodels]\n",
      "   ------------- -------------------------- 1/3 [statsmodels]\n",
      "   ------------- -------------------------- 1/3 [statsmodels]\n",
      "   ------------- -------------------------- 1/3 [statsmodels]\n",
      "   ------------- -------------------------- 1/3 [statsmodels]\n",
      "   ------------- -------------------------- 1/3 [statsmodels]\n",
      "   ------------- -------------------------- 1/3 [statsmodels]\n",
      "   ------------- -------------------------- 1/3 [statsmodels]\n",
      "   ------------- -------------------------- 1/3 [statsmodels]\n",
      "   ------------- -------------------------- 1/3 [statsmodels]\n",
      "   ------------- -------------------------- 1/3 [statsmodels]\n",
      "   ------------- -------------------------- 1/3 [statsmodels]\n",
      "   ------------- -------------------------- 1/3 [statsmodels]\n",
      "   ------------- -------------------------- 1/3 [statsmodels]\n",
      "   ------------- -------------------------- 1/3 [statsmodels]\n",
      "   ------------- -------------------------- 1/3 [statsmodels]\n",
      "   ------------- -------------------------- 1/3 [statsmodels]\n",
      "   ------------- -------------------------- 1/3 [statsmodels]\n",
      "   ------------- -------------------------- 1/3 [statsmodels]\n",
      "   ------------- -------------------------- 1/3 [statsmodels]\n",
      "   ------------- -------------------------- 1/3 [statsmodels]\n",
      "   ------------- -------------------------- 1/3 [statsmodels]\n",
      "   ------------- -------------------------- 1/3 [statsmodels]\n",
      "   ------------- -------------------------- 1/3 [statsmodels]\n",
      "   ------------- -------------------------- 1/3 [statsmodels]\n",
      "   ------------- -------------------------- 1/3 [statsmodels]\n",
      "   ------------- -------------------------- 1/3 [statsmodels]\n",
      "   ------------- -------------------------- 1/3 [statsmodels]\n",
      "   ------------- -------------------------- 1/3 [statsmodels]\n",
      "   ------------- -------------------------- 1/3 [statsmodels]\n",
      "   ------------- -------------------------- 1/3 [statsmodels]\n",
      "   -------------------------- ------------- 2/3 [category_encoders]\n",
      "   -------------------------- ------------- 2/3 [category_encoders]\n",
      "   -------------------------- ------------- 2/3 [category_encoders]\n",
      "   -------------------------- ------------- 2/3 [category_encoders]\n",
      "   -------------------------- ------------- 2/3 [category_encoders]\n",
      "   -------------------------- ------------- 2/3 [category_encoders]\n",
      "   -------------------------- ------------- 2/3 [category_encoders]\n",
      "   -------------------------- ------------- 2/3 [category_encoders]\n",
      "   ---------------------------------------- 3/3 [category_encoders]\n",
      "\n",
      "Successfully installed category_encoders-2.8.1 patsy-1.0.1 statsmodels-0.14.5\n",
      "Note: you may need to restart the kernel to use updated packages.\n"
     ]
    }
   ],
   "source": [
    "%pip install category_encoders\n",
    "\n",
    "import pandas as pd\n",
    "from category_encoders import TargetEncoder\n",
    "from sklearn.preprocessing import OneHotEncoder\n",
    "from sklearn.compose import ColumnTransformer\n",
    "from sklearn.pipeline import Pipeline\n",
    "from sklearn.impute import SimpleImputer"
   ]
  },
  {
   "cell_type": "code",
   "execution_count": 12,
   "id": "f2209ee4",
   "metadata": {},
   "outputs": [
    {
     "name": "stdout",
     "output_type": "stream",
     "text": [
      "['fish_id', 'species', 'common_name', 'waterbody_name', 'kingdom', 'phylum', 'class', 'order', 'family', 'genus', 'status', 'feeding_type', 'temp_max', 'weight_max', 'length_max', 'temp_pref_min', 'temp_pref_max', 'temp_range', 'fecundity_mean', 'fecundity_min', 'fecundity_max', 'trophic_level_estimate', 'trophic_level', 'wb_ph_min', 'wb_ph_max', 'wb_salinity_min', 'wb_salinity_max', 'wb_do_min', 'wb_do_max', 'wb_bod_min', 'wb_bod_max', 'wb_turbidity_min', 'wb_turbidity_max', 'wb_temp_min', 'wb_temp_max']\n"
     ]
    }
   ],
   "source": [
    "df = pd.read_csv(\"standardized_dataset.csv\")\n",
    "\n",
    "print(df.columns.tolist())\n"
   ]
  },
  {
   "cell_type": "markdown",
   "id": "9d021528",
   "metadata": {},
   "source": [
    "# Rename status values"
   ]
  },
  {
   "cell_type": "code",
   "execution_count": 23,
   "id": "4e63fce1",
   "metadata": {},
   "outputs": [
    {
     "name": "stdout",
     "output_type": "stream",
     "text": [
      "6\n",
      "status\n",
      "Invasive       889\n",
      "Established    666\n",
      "Reported       336\n",
      "EN             232\n",
      "Failed         201\n",
      "Extirpated      18\n",
      "Name: count, dtype: int64\n"
     ]
    }
   ],
   "source": [
    "print(df['status'].nunique())\n",
    "print(df['status'].value_counts())\n",
    "\n",
    "df[\"status\"] = df[\"status\"].replace({\n",
    "    \"Reported/Native\": \"Reported\",\n",
    "    \"Native, threatened\": \"Reported\",\n",
    "    \"Native/Amphidromous\": \"Reported\",\n",
    "    \"Native/Riverine\": \"Reported\",\n",
    "    \"Endemic/Established\": \"Established\",\n",
    "    \"Recorded\": \"Reported\",\n",
    "    \"LC\": \"EN\"\n",
    "})\n"
   ]
  },
  {
   "cell_type": "code",
   "execution_count": 35,
   "id": "6e6546b6",
   "metadata": {},
   "outputs": [
    {
     "name": "stdout",
     "output_type": "stream",
     "text": [
      "['fish_id', 'species', 'common_name', 'waterbody_name', 'kingdom', 'phylum', 'class', 'order', 'family', 'genus', 'status', 'feeding_type', 'temp_max', 'weight_max', 'length_max', 'temp_pref_min', 'temp_pref_max', 'fecundity_mean', 'fecundity_min', 'fecundity_max', 'trophic_level_estimate', 'trophic_level', 'wb_ph_min', 'wb_ph_max', 'wb_salinity_min', 'wb_salinity_max', 'wb_do_min', 'wb_do_max', 'wb_bod_min', 'wb_bod_max', 'wb_turbidity_min', 'wb_turbidity_max', 'wb_temp_min', 'wb_temp_max', 'temp_range_min', 'temp_range_max']\n"
     ]
    }
   ],
   "source": [
    "print(df.columns.tolist())"
   ]
  },
  {
   "cell_type": "markdown",
   "id": "f49b6d48",
   "metadata": {},
   "source": [
    "# Drop temp_range_min/max columns"
   ]
  },
  {
   "cell_type": "code",
   "execution_count": 36,
   "id": "d3850b9a",
   "metadata": {},
   "outputs": [],
   "source": [
    "df = df.drop(columns=[\"temp_range_min\", \"temp_range_max\"])"
   ]
  },
  {
   "cell_type": "code",
   "execution_count": 37,
   "id": "d9a57a88",
   "metadata": {},
   "outputs": [
    {
     "name": "stdout",
     "output_type": "stream",
     "text": [
      "['fish_id', 'species', 'common_name', 'waterbody_name', 'kingdom', 'phylum', 'class', 'order', 'family', 'genus', 'status', 'feeding_type', 'temp_max', 'weight_max', 'length_max', 'temp_pref_min', 'temp_pref_max', 'fecundity_mean', 'fecundity_min', 'fecundity_max', 'trophic_level_estimate', 'trophic_level', 'wb_ph_min', 'wb_ph_max', 'wb_salinity_min', 'wb_salinity_max', 'wb_do_min', 'wb_do_max', 'wb_bod_min', 'wb_bod_max', 'wb_turbidity_min', 'wb_turbidity_max', 'wb_temp_min', 'wb_temp_max']\n"
     ]
    }
   ],
   "source": [
    "print(df.columns.tolist())"
   ]
  },
  {
   "cell_type": "markdown",
   "id": "505711cf",
   "metadata": {},
   "source": [
    "# Check columns before encoding"
   ]
  },
  {
   "cell_type": "code",
   "execution_count": 40,
   "id": "75ddb959",
   "metadata": {},
   "outputs": [
    {
     "data": {
      "application/vnd.microsoft.datawrangler.viewer.v0+json": {
       "columns": [
        {
         "name": "index",
         "rawType": "object",
         "type": "string"
        },
        {
         "name": "0",
         "rawType": "object",
         "type": "unknown"
        }
       ],
       "ref": "c4f38bef-b095-425e-9403-09ea3551ad9c",
       "rows": [
        [
         "fish_id",
         "object"
        ],
        [
         "species",
         "object"
        ],
        [
         "common_name",
         "object"
        ],
        [
         "waterbody_name",
         "object"
        ],
        [
         "kingdom",
         "object"
        ],
        [
         "phylum",
         "object"
        ],
        [
         "class",
         "object"
        ],
        [
         "order",
         "object"
        ],
        [
         "family",
         "object"
        ],
        [
         "genus",
         "object"
        ],
        [
         "status",
         "object"
        ],
        [
         "feeding_type",
         "object"
        ],
        [
         "temp_max",
         "object"
        ],
        [
         "weight_max",
         "object"
        ],
        [
         "length_max",
         "object"
        ],
        [
         "temp_pref_min",
         "object"
        ],
        [
         "temp_pref_max",
         "object"
        ],
        [
         "fecundity_mean",
         "object"
        ],
        [
         "fecundity_min",
         "float64"
        ],
        [
         "fecundity_max",
         "float64"
        ],
        [
         "trophic_level_estimate",
         "object"
        ],
        [
         "trophic_level",
         "float64"
        ],
        [
         "wb_ph_min",
         "float64"
        ],
        [
         "wb_ph_max",
         "float64"
        ],
        [
         "wb_salinity_min",
         "float64"
        ],
        [
         "wb_salinity_max",
         "float64"
        ],
        [
         "wb_do_min",
         "float64"
        ],
        [
         "wb_do_max",
         "float64"
        ],
        [
         "wb_bod_min",
         "float64"
        ],
        [
         "wb_bod_max",
         "float64"
        ],
        [
         "wb_turbidity_min",
         "float64"
        ],
        [
         "wb_turbidity_max",
         "float64"
        ],
        [
         "wb_temp_min",
         "float64"
        ],
        [
         "wb_temp_max",
         "float64"
        ]
       ],
       "shape": {
        "columns": 1,
        "rows": 34
       }
      },
      "text/plain": [
       "fish_id                    object\n",
       "species                    object\n",
       "common_name                object\n",
       "waterbody_name             object\n",
       "kingdom                    object\n",
       "phylum                     object\n",
       "class                      object\n",
       "order                      object\n",
       "family                     object\n",
       "genus                      object\n",
       "status                     object\n",
       "feeding_type               object\n",
       "temp_max                   object\n",
       "weight_max                 object\n",
       "length_max                 object\n",
       "temp_pref_min              object\n",
       "temp_pref_max              object\n",
       "fecundity_mean             object\n",
       "fecundity_min             float64\n",
       "fecundity_max             float64\n",
       "trophic_level_estimate     object\n",
       "trophic_level             float64\n",
       "wb_ph_min                 float64\n",
       "wb_ph_max                 float64\n",
       "wb_salinity_min           float64\n",
       "wb_salinity_max           float64\n",
       "wb_do_min                 float64\n",
       "wb_do_max                 float64\n",
       "wb_bod_min                float64\n",
       "wb_bod_max                float64\n",
       "wb_turbidity_min          float64\n",
       "wb_turbidity_max          float64\n",
       "wb_temp_min               float64\n",
       "wb_temp_max               float64\n",
       "dtype: object"
      ]
     },
     "execution_count": 40,
     "metadata": {},
     "output_type": "execute_result"
    }
   ],
   "source": [
    "df.dtypes"
   ]
  },
  {
   "cell_type": "code",
   "execution_count": 39,
   "id": "99f29958",
   "metadata": {},
   "outputs": [
    {
     "name": "stdout",
     "output_type": "stream",
     "text": [
      "\n",
      "Unique sample values in temp_max:\n",
      "['5.15' '4.714286' '3.666667' '3' '3.617647' '5.666667' '4.25' '3.5' '6'\n",
      " '5.75' '8' '4.5' '11' '8.75' '12' '9' '7' '11.83333' '13' '7.8']\n",
      "\n",
      "Unique sample values in weight_max:\n",
      "['0.328' '0.5' '0.629' '1.003' '5' '5.06' '5.675' '6.3' '6.4' '8.06'\n",
      " '8.41' '10.52' '11.9' '13.2' '14.91' '15' '19.10667' '22' '22.58' '22.89']\n",
      "\n",
      "Unique sample values in length_max:\n",
      "['3.489' '3.8' '4.9' '3.572' '2.8' '11.25' '6.4' '8.285' '10.41667' '5.6'\n",
      " '11.1' '8.3' '7.29' '6.2' '17.44' '10.6' '11.2' '16.91667' '10.5' '11.9']\n",
      "\n",
      "Unique sample values in temp_pref_min:\n",
      "['25' '23' '18' '22' '14' '2' '20' '17' '24' '15' '5' '10' '11' '4' '27'\n",
      " '21' '6' '26' '0' '1']\n",
      "\n",
      "Unique sample values in temp_pref_max:\n",
      "['29' '28' '22' '26' '24' '18' '23' '30' '25' '20' '37' '34' '15' '35'\n",
      " '27' '36' '33' '40' '43' '14']\n",
      "\n",
      "Unique sample values in fecundity_mean:\n",
      "['175' '6390' '85' '450' '250' '1443.25' '30864.3' '2976.5' '94527.13'\n",
      " '2016' '650' '11774.75' '70958.67' '15917' '7285.75' '700' '11950'\n",
      " '26937.5' '1484.25' '25977']\n"
     ]
    }
   ],
   "source": [
    "for col in ['temp_max', 'weight_max', 'length_max', 'temp_pref_min', 'temp_pref_max', 'fecundity_mean']:\n",
    "    print(f\"\\nUnique sample values in {col}:\")\n",
    "    print(df[col].dropna().unique()[:20])  # show first 20 unique non-null values"
   ]
  },
  {
   "cell_type": "code",
   "execution_count": 41,
   "id": "ac5b9183",
   "metadata": {},
   "outputs": [],
   "source": [
    "num_cols = [\n",
    "    \"temp_max\", \"weight_max\", \"length_max\",\n",
    "    \"temp_pref_min\", \"temp_pref_max\", \"fecundity_mean\", \"trophic_level_estimate\"\n",
    "]\n",
    "\n",
    "for col in num_cols:\n",
    "    df[col] = pd.to_numeric(df[col], errors=\"coerce\")"
   ]
  },
  {
   "cell_type": "code",
   "execution_count": 42,
   "id": "019b2136",
   "metadata": {},
   "outputs": [
    {
     "data": {
      "application/vnd.microsoft.datawrangler.viewer.v0+json": {
       "columns": [
        {
         "name": "index",
         "rawType": "object",
         "type": "string"
        },
        {
         "name": "0",
         "rawType": "object",
         "type": "unknown"
        }
       ],
       "ref": "1a2fe2a0-9fbd-4805-b8f7-88251ee7b667",
       "rows": [
        [
         "fish_id",
         "object"
        ],
        [
         "species",
         "object"
        ],
        [
         "common_name",
         "object"
        ],
        [
         "waterbody_name",
         "object"
        ],
        [
         "kingdom",
         "object"
        ],
        [
         "phylum",
         "object"
        ],
        [
         "class",
         "object"
        ],
        [
         "order",
         "object"
        ],
        [
         "family",
         "object"
        ],
        [
         "genus",
         "object"
        ],
        [
         "status",
         "object"
        ],
        [
         "feeding_type",
         "object"
        ],
        [
         "temp_max",
         "float64"
        ],
        [
         "weight_max",
         "float64"
        ],
        [
         "length_max",
         "float64"
        ],
        [
         "temp_pref_min",
         "float64"
        ],
        [
         "temp_pref_max",
         "float64"
        ],
        [
         "fecundity_mean",
         "float64"
        ],
        [
         "fecundity_min",
         "float64"
        ],
        [
         "fecundity_max",
         "float64"
        ],
        [
         "trophic_level_estimate",
         "float64"
        ],
        [
         "trophic_level",
         "float64"
        ],
        [
         "wb_ph_min",
         "float64"
        ],
        [
         "wb_ph_max",
         "float64"
        ],
        [
         "wb_salinity_min",
         "float64"
        ],
        [
         "wb_salinity_max",
         "float64"
        ],
        [
         "wb_do_min",
         "float64"
        ],
        [
         "wb_do_max",
         "float64"
        ],
        [
         "wb_bod_min",
         "float64"
        ],
        [
         "wb_bod_max",
         "float64"
        ],
        [
         "wb_turbidity_min",
         "float64"
        ],
        [
         "wb_turbidity_max",
         "float64"
        ],
        [
         "wb_temp_min",
         "float64"
        ],
        [
         "wb_temp_max",
         "float64"
        ]
       ],
       "shape": {
        "columns": 1,
        "rows": 34
       }
      },
      "text/plain": [
       "fish_id                    object\n",
       "species                    object\n",
       "common_name                object\n",
       "waterbody_name             object\n",
       "kingdom                    object\n",
       "phylum                     object\n",
       "class                      object\n",
       "order                      object\n",
       "family                     object\n",
       "genus                      object\n",
       "status                     object\n",
       "feeding_type               object\n",
       "temp_max                  float64\n",
       "weight_max                float64\n",
       "length_max                float64\n",
       "temp_pref_min             float64\n",
       "temp_pref_max             float64\n",
       "fecundity_mean            float64\n",
       "fecundity_min             float64\n",
       "fecundity_max             float64\n",
       "trophic_level_estimate    float64\n",
       "trophic_level             float64\n",
       "wb_ph_min                 float64\n",
       "wb_ph_max                 float64\n",
       "wb_salinity_min           float64\n",
       "wb_salinity_max           float64\n",
       "wb_do_min                 float64\n",
       "wb_do_max                 float64\n",
       "wb_bod_min                float64\n",
       "wb_bod_max                float64\n",
       "wb_turbidity_min          float64\n",
       "wb_turbidity_max          float64\n",
       "wb_temp_min               float64\n",
       "wb_temp_max               float64\n",
       "dtype: object"
      ]
     },
     "execution_count": 42,
     "metadata": {},
     "output_type": "execute_result"
    }
   ],
   "source": [
    "df.dtypes"
   ]
  },
  {
   "cell_type": "code",
   "execution_count": 44,
   "id": "7607bacf",
   "metadata": {},
   "outputs": [
    {
     "name": "stdout",
     "output_type": "stream",
     "text": [
      "<class 'pandas.core.frame.DataFrame'>\n",
      "RangeIndex: 2342 entries, 0 to 2341\n",
      "Data columns (total 22 columns):\n",
      " #   Column                  Non-Null Count  Dtype  \n",
      "---  ------                  --------------  -----  \n",
      " 0   temp_max                1008 non-null   float64\n",
      " 1   weight_max              1380 non-null   float64\n",
      " 2   length_max              1724 non-null   float64\n",
      " 3   temp_pref_min           1874 non-null   float64\n",
      " 4   temp_pref_max           1886 non-null   float64\n",
      " 5   fecundity_mean          1165 non-null   float64\n",
      " 6   fecundity_min           2342 non-null   float64\n",
      " 7   fecundity_max           2342 non-null   float64\n",
      " 8   trophic_level_estimate  349 non-null    float64\n",
      " 9   trophic_level           1813 non-null   float64\n",
      " 10  wb_ph_min               2342 non-null   float64\n",
      " 11  wb_ph_max               2342 non-null   float64\n",
      " 12  wb_salinity_min         2342 non-null   float64\n",
      " 13  wb_salinity_max         2342 non-null   float64\n",
      " 14  wb_do_min               2342 non-null   float64\n",
      " 15  wb_do_max               2342 non-null   float64\n",
      " 16  wb_bod_min              2342 non-null   float64\n",
      " 17  wb_bod_max              2342 non-null   float64\n",
      " 18  wb_turbidity_min        2342 non-null   float64\n",
      " 19  wb_turbidity_max        2342 non-null   float64\n",
      " 20  wb_temp_min             2342 non-null   float64\n",
      " 21  wb_temp_max             2342 non-null   float64\n",
      "dtypes: float64(22)\n",
      "memory usage: 402.7 KB\n"
     ]
    }
   ],
   "source": [
    "df.select_dtypes(include=['float64']).info()"
   ]
  },
  {
   "cell_type": "code",
   "execution_count": 45,
   "id": "ee7266ad",
   "metadata": {},
   "outputs": [
    {
     "name": "stdout",
     "output_type": "stream",
     "text": [
      "\n",
      "species (642 unique):\n",
      "species\n",
      "Leuciscus leuciscus       18\n",
      "Morone americana          17\n",
      "Salvelinus fontinalis     16\n",
      "Mastacembelus armatus     15\n",
      "Prosopium cylindraceum    15\n",
      "Hypsibarbus pierrei       13\n",
      "Thymallus thymallus       13\n",
      "Lates mariae              12\n",
      "Ameiurus nebulosus        11\n",
      "Salvelinus malma          11\n",
      "Name: count, dtype: int64\n",
      "\n",
      "waterbody_name (1888 unique):\n",
      "waterbody_name\n",
      "Laguna de Bay                 36\n",
      "Lake Erie, USA                18\n",
      "Lake Michigan, USA            16\n",
      "Taal Lake                     14\n",
      "Lake Ontario, Canada          13\n",
      "Laguna River                  13\n",
      "Laguna de Bay, Philippines    13\n",
      "Lake Balaton, Hungary         11\n",
      "Lake Ontario                   8\n",
      "Lake Malawi, Malawi            8\n",
      "Name: count, dtype: int64\n",
      "\n",
      "kingdom (1 unique):\n",
      "kingdom\n",
      "Animalia    2340\n",
      "NaN            2\n",
      "Name: count, dtype: int64\n",
      "\n",
      "phylum (1 unique):\n",
      "phylum\n",
      "Chordata    2340\n",
      "NaN            2\n",
      "Name: count, dtype: int64\n",
      "\n",
      "class (1 unique):\n",
      "class\n",
      "Actinopterygii    2340\n",
      "NaN                  2\n",
      "Name: count, dtype: int64\n",
      "\n",
      "order (39 unique):\n",
      "order\n",
      "Cypriniformes         586\n",
      "Perciformes           382\n",
      "Salmoniformes         230\n",
      "Siluriformes          208\n",
      "Cyprinodontiformes    168\n",
      "Cichliformes           80\n",
      "Characiformes          78\n",
      "Atheriniformes         74\n",
      "Acipenseriformes       65\n",
      "Clupeiformes           54\n",
      "Name: count, dtype: int64\n",
      "\n",
      "family (119 unique):\n",
      "family\n",
      "Cyprinidae       406\n",
      "Salmonidae       230\n",
      "Cichlidae        200\n",
      "Percidae          82\n",
      "Acipenseridae     59\n",
      "Centrarchidae     48\n",
      "Poeciliidae       46\n",
      "Catostomidae      46\n",
      "Clupeidae         44\n",
      "Ictaluridae       42\n",
      "Name: count, dtype: int64\n",
      "\n",
      "genus (378 unique):\n",
      "genus\n",
      "Coregonus       71\n",
      "Salvelinus      51\n",
      "Acipenser       44\n",
      "Oncorhynchus    38\n",
      "Etheostoma      37\n",
      "Fundulus        35\n",
      "Ameiurus        32\n",
      "Anguilla        29\n",
      "Leuciscus       28\n",
      "Salmo           27\n",
      "Name: count, dtype: int64\n",
      "\n",
      "status (6 unique):\n",
      "status\n",
      "Invasive       889\n",
      "Established    666\n",
      "Reported       336\n",
      "EN             232\n",
      "Failed         201\n",
      "Extirpated      18\n",
      "Name: count, dtype: int64\n",
      "\n",
      "feeding_type (58 unique):\n",
      "feeding_type\n",
      "predator                      1060\n",
      "NaN                            446\n",
      "variable                       274\n",
      "Omnivore                       160\n",
      "grazer                         142\n",
      "selective plankton feeding      56\n",
      "Carnivore                       41\n",
      "browser                         27\n",
      "Insectivore                     23\n",
      "filtering plankton              13\n",
      "Name: count, dtype: int64\n"
     ]
    }
   ],
   "source": [
    "categorical_cols = [\n",
    "    \"species\", \"waterbody_name\",\n",
    "    \"kingdom\", \"phylum\", \"class\", \"order\", \"family\", \"genus\",\n",
    "    \"status\", \"feeding_type\"\n",
    "]\n",
    "\n",
    "for col in categorical_cols:\n",
    "    print(f\"\\n{col} ({df[col].nunique()} unique):\")\n",
    "    print(df[col].value_counts(dropna=False).head(10))"
   ]
  },
  {
   "cell_type": "code",
   "execution_count": 47,
   "id": "4f1a3f1e",
   "metadata": {},
   "outputs": [
    {
     "name": "stdout",
     "output_type": "stream",
     "text": [
      "waterbody_name\n",
      "Ganga River, Farrukhabad                                                                     1\n",
      "Ganga River, Prayagraj (Allahabad)                                                           1\n",
      "Rio Negro                                                                                    1\n",
      "Solimões / Middle Amazon (Mamirauá)                                                          1\n",
      "Palumeu River (upper Palumeu watershed, southeastern Suriname)                               1\n",
      "Sipaliwini & Kutari rivers (Kwamalasamutu region, SW Suriname)                               1\n",
      "Oyapock / Oiapoque estuary (lower Oyapock / coastal rivers between French Guiana & Amapá)    1\n",
      "Ganga River, Varanasi / Prayagraj                                                            1\n",
      "Padma River, Bheramara (Kushtia)                                                             1\n",
      "Brahmaputra River, Guwahati / Kamrup stretches                                               1\n",
      "Korotoa River (Bogura)                                                                       1\n",
      "McCauley Spring (Sandoval Co.)                                                               1\n",
      "Kallar River                                                                                 1\n",
      "Dibru River (Dibru-Saikhowa region)                                                          1\n",
      "Stanley Reservoir                                                                            1\n",
      "Upstream Bangpakong River                                                                    1\n",
      "Maeklong watershed                                                                           1\n",
      "Chao Phraya                                                                                  1\n",
      "Cold streams and lakes in North America                                                      1\n",
      "Rio Usumacinta / Atlantic slope rivers of southern Mexico & Guatemala                        1\n",
      "Central American Atlantic & Pacific coastal drainages                                        1\n",
      "Columbia River basin (USA)                                                                   1\n",
      "Paint Rock River, USA                                                                        1\n",
      "Little Paint Rock Creek, USA                                                                 1\n",
      "Little Paint, USA                                                                            1\n",
      "Dry Creek, USA                                                                               1\n",
      "Murray-Darling Basin streams (southeastern Australia)                                        1\n",
      "Ross River, Queensland, Australia                                                            1\n",
      "Brisbane River headwaters, QLD                                                               1\n",
      "Usumacinta & southern Mexican Atlantic drainages                                             1\n",
      "Lake Sentani, West Papua (Indonesia)                                                         1\n",
      "Amazon/ northeastern Brazilian river systems                                                 1\n",
      "South & Southeast Asia ponds                                                                 1\n",
      "Lake Argyle (Ord River Dam)                                                                  1\n",
      "Dunham River, WA                                                                             1\n",
      "Thego stream (Mount Kenya)                                                                   1\n",
      "Coastal lowland streams & estuaries in Indo-Pacific                                          1\n",
      "Lake Bosomtwi, Ghana                                                                         1\n",
      "Congo River, Yangambi region                                                                 1\n",
      "Lake Victoria, Mwanza Gulf (Tanzania)                                                        1\n",
      "Lake Manyara (and adjacent streams), Tanzania                                                1\n",
      "Chalakudy River / Periyar River (Western Ghats, India)                                       1\n",
      "Gulf of Nicoya estuary (Costa Rica)                                                          1\n",
      "Snowy River headwaters, SE Australia                                                         1\n",
      "Derwent headwaters, Tasmania (Australia)                                                     1\n",
      "Canterbury/Otago rivers (New Zealand)                                                        1\n",
      "(Omani garra)\\r\\nWadi Bani Khalid pools, Oman                                                1\n",
      "Sepik River, Papua New Guinea                                                                1\n",
      "Lufira River, Congo basin (DRC)                                                              1\n",
      "Drysdale River, Kimberley (Australia)                                                        1\n",
      "Name: count, dtype: int64\n"
     ]
    }
   ],
   "source": [
    "# Find suspicious waterbody_name entries (non-lake/river)\n",
    "print(df[\"waterbody_name\"].value_counts().tail(50))"
   ]
  },
  {
   "cell_type": "code",
   "execution_count": 51,
   "id": "a119b9ee",
   "metadata": {},
   "outputs": [],
   "source": [
    "import re\n",
    "\n",
    "def clean_waterbody_name(name):\n",
    "    # Remove everything inside parentheses\n",
    "    name = re.sub(r\"\\(.*?\\)\", \"\", name)\n",
    "    # Keep only the first part before \"/\" if it looks like multiple names\n",
    "    name = name.split(\"/\")[0]\n",
    "    # Remove extra descriptions like \"basin\", \"drainages\", \"coastal rivers\"\n",
    "    name = re.sub(r\"\\b(basin|drainages|watershed|region|stretches|estuary|coastal|coast)\\b.*\", \"\", name, flags=re.IGNORECASE)\n",
    "    # Strip whitespace\n",
    "    return name.strip()"
   ]
  },
  {
   "cell_type": "code",
   "execution_count": 50,
   "id": "9829a885",
   "metadata": {},
   "outputs": [
    {
     "name": "stdout",
     "output_type": "stream",
     "text": [
      "waterbody_name\n",
      "Ganga River, Farrukhabad                                                                     1\n",
      "Ganga River, Prayagraj (Allahabad)                                                           1\n",
      "Rio Negro                                                                                    1\n",
      "Solimões / Middle Amazon (Mamirauá)                                                          1\n",
      "Palumeu River (upper Palumeu watershed, southeastern Suriname)                               1\n",
      "Sipaliwini & Kutari rivers (Kwamalasamutu region, SW Suriname)                               1\n",
      "Oyapock / Oiapoque estuary (lower Oyapock / coastal rivers between French Guiana & Amapá)    1\n",
      "Ganga River, Varanasi / Prayagraj                                                            1\n",
      "Padma River, Bheramara (Kushtia)                                                             1\n",
      "Brahmaputra River, Guwahati / Kamrup stretches                                               1\n",
      "Korotoa River (Bogura)                                                                       1\n",
      "McCauley Spring (Sandoval Co.)                                                               1\n",
      "Kallar River                                                                                 1\n",
      "Dibru River (Dibru-Saikhowa region)                                                          1\n",
      "Stanley Reservoir                                                                            1\n",
      "Upstream Bangpakong River                                                                    1\n",
      "Maeklong watershed                                                                           1\n",
      "Chao Phraya                                                                                  1\n",
      "Cold streams and lakes in North America                                                      1\n",
      "Rio Usumacinta / Atlantic slope rivers of southern Mexico & Guatemala                        1\n",
      "Central American Atlantic & Pacific coastal drainages                                        1\n",
      "Columbia River basin (USA)                                                                   1\n",
      "Paint Rock River, USA                                                                        1\n",
      "Little Paint Rock Creek, USA                                                                 1\n",
      "Little Paint, USA                                                                            1\n",
      "Dry Creek, USA                                                                               1\n",
      "Murray-Darling Basin streams (southeastern Australia)                                        1\n",
      "Ross River, Queensland, Australia                                                            1\n",
      "Brisbane River headwaters, QLD                                                               1\n",
      "Usumacinta & southern Mexican Atlantic drainages                                             1\n",
      "Lake Sentani, West Papua (Indonesia)                                                         1\n",
      "Amazon/ northeastern Brazilian river systems                                                 1\n",
      "South & Southeast Asia ponds                                                                 1\n",
      "Lake Argyle (Ord River Dam)                                                                  1\n",
      "Dunham River, WA                                                                             1\n",
      "Thego stream (Mount Kenya)                                                                   1\n",
      "Coastal lowland streams & estuaries in Indo-Pacific                                          1\n",
      "Lake Bosomtwi, Ghana                                                                         1\n",
      "Congo River, Yangambi region                                                                 1\n",
      "Lake Victoria, Mwanza Gulf (Tanzania)                                                        1\n",
      "Lake Manyara (and adjacent streams), Tanzania                                                1\n",
      "Chalakudy River / Periyar River (Western Ghats, India)                                       1\n",
      "Gulf of Nicoya estuary (Costa Rica)                                                          1\n",
      "Snowy River headwaters, SE Australia                                                         1\n",
      "Derwent headwaters, Tasmania (Australia)                                                     1\n",
      "Canterbury/Otago rivers (New Zealand)                                                        1\n",
      "(Omani garra)\\r\\nWadi Bani Khalid pools, Oman                                                1\n",
      "Sepik River, Papua New Guinea                                                                1\n",
      "Lufira River, Congo basin (DRC)                                                              1\n",
      "Drysdale River, Kimberley (Australia)                                                        1\n",
      "Name: count, dtype: int64\n"
     ]
    }
   ],
   "source": [
    "# Find suspicious waterbody_name entries (non-lake/river)\n",
    "print(df[\"waterbody_name\"].value_counts().tail(50))"
   ]
  },
  {
   "cell_type": "code",
   "execution_count": 52,
   "id": "b4e4abec",
   "metadata": {},
   "outputs": [],
   "source": [
    "rename_wb = {\n",
    "    \"Ganga River, Farrukhabad\": \"Ganga River, Farrukhabad\",\n",
    "    \"Ganga River, Prayagraj (Allahabad)\": \"Ganga River, Prayagraj\",\n",
    "    \"Rio Negro\": \"Rio Negro\",\n",
    "    \"Solimões / Middle Amazon (Mamirauá)\": \"Solimões River\",\n",
    "    \"Palumeu River (upper Palumeu watershed, southeastern Suriname)\": \"Palumeu River\",\n",
    "    \"Sipaliwini & Kutari rivers (Kwamalasamutu region, SW Suriname)\": \"Sipaliwini & Kutari Rivers\",\n",
    "    \"Oyapock / Oiapoque estuary (lower Oyapock / coastal rivers between French Guiana & Amapá)\": \"Oyapock River\",\n",
    "    \"Ganga River, Varanasi / Prayagraj\": \"Ganga River, Varanasi\",\n",
    "    \"Padma River, Bheramara (Kushtia)\": \"Padma River, Bheramara\",\n",
    "    \"Brahmaputra River, Guwahati / Kamrup stretches\": \"Brahmaputra River\",\n",
    "    \"Korotoa River (Bogura)\": \"Korotoa River\",\n",
    "    \"McCauley Spring (Sandoval Co.)\": \"McCauley Spring\",\n",
    "    \"Kallar River\": \"Kallar River\",\n",
    "    \"Dibru River (Dibru-Saikhowa region)\": \"Dibru River\",\n",
    "    \"Stanley Reservoir\": \"Stanley Reservoir\",\n",
    "    \"Upstream Bangpakong River\": \"Bangpakong River\",\n",
    "    \"Maeklong watershed\": \"Maeklong River\",\n",
    "    \"Chao Phraya\": \"Chao Phraya River\",\n",
    "    \"Cold streams and lakes in North America\": \"Cold Streams & Lakes (N. America)\",\n",
    "    \"Rio Usumacinta / Atlantic slope rivers of southern Mexico & Guatemala\": \"Rio Usumacinta\",\n",
    "    \"Central American Atlantic & Pacific coastal drainages\": \"Central American Rivers\",\n",
    "    \"Columbia River basin (USA)\": \"Columbia River Basin\",\n",
    "    \"Paint Rock River, USA\": \"Paint Rock River\",\n",
    "    \"Little Paint Rock Creek, USA\": \"Little Paint Rock Creek\",\n",
    "    \"Sepik River, Papua New Guinea\": \"Sepik River\",\n",
    "    \"Lufira River, Congo basin (DRC)\": \"Lufira River\",\n",
    "    \"Drysdale River, Kimberley (Australia)\": \"Drysdale River\"\n",
    "}\n",
    "\n",
    "df[\"waterbody_name\"] = df[\"waterbody_name\"].replace(rename_wb)\n"
   ]
  },
  {
   "cell_type": "code",
   "execution_count": 53,
   "id": "36b1dac7",
   "metadata": {},
   "outputs": [
    {
     "name": "stdout",
     "output_type": "stream",
     "text": [
      "waterbody_name\n",
      "Lower Paraná River                                        1\n",
      "Lake St. Clair, Ontario                                   1\n",
      "Patos Lagoon                                              1\n",
      "Lake Chapala                                              1\n",
      "Lerma River                                               1\n",
      "Chalan Beel (Bangladesh)                                  1\n",
      "Mekong River                                              1\n",
      "Irrawaddy (Ayeyarwady) River                              1\n",
      "Salween (Thanlwin / Salouen) River                        1\n",
      "Mae Khlong River                                          1\n",
      "Sumatra rivers                                            1\n",
      "Typical stream, Hainan Island                             1\n",
      "Lake Havasu, USA                                          1\n",
      "Chilika Lake, Rambha                                      1\n",
      "Cempaka                                                   1\n",
      "Thai koi / culture pond                                   1\n",
      "Osprey Marsh (Ontario, Canada)                            1\n",
      "Ganga River, Narora                                       1\n",
      "Cold Streams & Lakes (N. America)                         1\n",
      "Rio Usumacinta                                            1\n",
      "Central American Rivers                                   1\n",
      "Columbia River Basin                                      1\n",
      "Paint Rock River                                          1\n",
      "Little Paint Rock Creek                                   1\n",
      "Little Paint, USA                                         1\n",
      "Ganga River, Bijnor                                       1\n",
      "Murray-Darling Basin streams (southeastern Australia)     1\n",
      "Ross River, Queensland, Australia                         1\n",
      "Brisbane River headwaters, QLD                            1\n",
      "Usumacinta & southern Mexican Atlantic drainages          1\n",
      "Lake Sentani, West Papua (Indonesia)                      1\n",
      "Amazon/ northeastern Brazilian river systems              1\n",
      "South & Southeast Asia ponds                              1\n",
      "Lake Argyle (Ord River Dam)                               1\n",
      "Dunham River, WA                                          1\n",
      "Thego stream (Mount Kenya)                                1\n",
      "Coastal lowland streams & estuaries in Indo-Pacific       1\n",
      "Lake Bosomtwi, Ghana                                      1\n",
      "Congo River, Yangambi region                              1\n",
      "Lake Victoria, Mwanza Gulf (Tanzania)                     1\n",
      "Lake Manyara (and adjacent streams), Tanzania             1\n",
      "Chalakudy River / Periyar River (Western Ghats, India)    1\n",
      "Gulf of Nicoya estuary (Costa Rica)                       1\n",
      "Snowy River headwaters, SE Australia                      1\n",
      "Derwent headwaters, Tasmania (Australia)                  1\n",
      "Canterbury/Otago rivers (New Zealand)                     1\n",
      "(Omani garra)\\r\\nWadi Bani Khalid pools, Oman             1\n",
      "Sepik River                                               1\n",
      "Lufira River                                              1\n",
      "Ganga River, Prayagraj                                    1\n",
      "Name: count, dtype: int64\n"
     ]
    }
   ],
   "source": [
    "# Find suspicious waterbody_name entries (non-lake/river)\n",
    "print(df[\"waterbody_name\"].value_counts().tail(50))"
   ]
  },
  {
   "cell_type": "code",
   "execution_count": 77,
   "id": "2bfe2cbc",
   "metadata": {},
   "outputs": [
    {
     "name": "stdout",
     "output_type": "stream",
     "text": [
      "waterbody_name\n",
      "Lake Bracciano (Italy)                                   1\n",
      "Kali River                                               1\n",
      "Suriname River Kabel Station                             1\n",
      "Chilika Lake                                             1\n",
      "Río de la Plata estuary                                  1\n",
      "Lower Paraná River                                       1\n",
      "Cempaka                                                  1\n",
      "Patos Lagoon                                             1\n",
      "Thai koi / culture pond                                  1\n",
      "Lerma River                                              1\n",
      "Chalan Beel                                              1\n",
      "Mekong River                                             1\n",
      "Irrawaddy River                                          1\n",
      "Salween River                                            1\n",
      "Mae Khlong River                                         1\n",
      "Sumatra rivers                                           1\n",
      "Typical stream, Hainan Island                            1\n",
      "Lane Creek                                               1\n",
      "Osprey Marsh                                             1\n",
      "Lower Zambezi River                                      1\n",
      "Small Rivers (Central America)                           1\n",
      "Cold Streams & Lakes                                     1\n",
      "Rio Usumacinta                                           1\n",
      "Central American Drainages                               1\n",
      "Columbia River                                           1\n",
      "Dalibane Creek                                           1\n",
      "Paint Rock Creek                                         1\n",
      "Little Paint, USA                                        1\n",
      "Dry Creek, USA                                           1\n",
      "Murray-Darling Basin streams (southeastern Australia)    1\n",
      "Ross River, Queensland, Australia                        1\n",
      "Brisbane River headwaters, QLD                           1\n",
      "Usumacinta & southern Mexican Atlantic drainages         1\n",
      "Lake Sentani, West Papua (Indonesia)                     1\n",
      "Amazon/ northeastern Brazilian river systems             1\n",
      "South & Southeast Asia ponds                             1\n",
      "Lake Argyle (Ord River Dam)                              1\n",
      "Dunham River, WA                                         1\n",
      "Thego stream (Mount Kenya)                               1\n",
      "Coastal lowland streams & estuaries in Indo-Pacific      1\n",
      "Lake Bosomtwi, Ghana                                     1\n",
      "Congo River, Yangambi region                             1\n",
      "Lake Victoria, Mwanza                                    1\n",
      "Lake Manyara                                             1\n",
      "Chalakudy River                                          1\n",
      "Gulf of Nicoya Estuary                                   1\n",
      "Snowy River Headwaters                                   1\n",
      "Derwent Headwaters                                       1\n",
      "Canterbury Otago Rivers                                  1\n",
      "Rio Tapajós (Santarém waterfront)                        1\n",
      "Name: count, dtype: int64\n"
     ]
    }
   ],
   "source": [
    "rename_wb = {\n",
    "    \"Lake St. Clair, Ontario\": \"Lake St. Clair\",\n",
    "    \"Chalan Beel (Bangladesh)\": \"Chalan Beel\",\n",
    "    \"Irrawaddy (Ayeyarwady) River\": \"Irrawaddy River\",\n",
    "    \"Salween (Thanlwin / Salouen) River\": \"Salween River\",\n",
    "    \"Mae Khlong River\": \"Maeklong River\",\n",
    "    \"Typical stream, Hainan Island\": \"Hainan Stream\",\n",
    "    \"Lake Havasu, USA\": \"Lake Havasu\",\n",
    "    \"Chilika Lake, Rambha\": \"Chilika Lake\",\n",
    "    \"Thai koi / culture pond\": \"Thai Culture Pond\",\n",
    "    \"Osprey Marsh (Ontario, Canada)\": \"Osprey Marsh\",\n",
    "    \"Ganga River, Narora\": \"Ganga River\",\n",
    "    \"Cold Streams & Lakes (N. America)\": \"Cold Streams & Lakes\",\n",
    "    \"Central American Rivers\": \"Central American Drainages\",\n",
    "    \"Columbia River Basin\": \"Columbia River\",\n",
    "    \"Little Paint Rock Creek\": \"Paint Rock Creek\",\n",
    "    \"Ganga River, Prayagraj\": \"Ganga River\",\n",
    "    \"Lake Victoria (Uganda/Kenya/Tanzania)\": \"Lake Victoria\",\n",
    "    \"Salween (Thanlwin / Salouen) River \": \"Salween River\",\n",
    "    \"Hudson River estuary (NY)\": \"Hudson River\",\n",
    "    \"Kali River / Sharavathi (Western Ghats, Karnataka)\": \"Kali River\",\n",
    "    \"Irrawaddy (Ayeyarwady) River\": \"Irrawaddy River\",\n",
    "    \"Canterbury/Otago rivers (New Zealand)\": \"Canterbury Otago Rivers\",\n",
    "    \"(Omani garra)\\r\\nWadi Bani Khalid pools, Oman\": \"Wadi Bani Khalid Pools\",\n",
    "    \"Lower Zambezi and lower parts of Sabi, Lundi, Pungwe, Buzi Rivers\": \"Lower Zambezi River\",\n",
    "    \"Small rivers/creeks on Atlantic slope Central America\": \"Small Rivers (Central America)\",\n",
    "    \"Lake Neusiedl / Neusiedler See\": \"Lake Neusiedl\",\n",
    "    \"Lake Chapala (Lerma Chapala basin, Mexico)\": \"Lake Chapala\",\n",
    "    \"Irrawaddy (Ayeyarwady) River \": \"Irrawaddy River\",\n",
    "    \"Thai koi / culture pond\": \"Thai Culture Pond\",\n",
    "    \"Lake Victoria, Mwanza Gulf (Tanzania)\": \"Lake Victoria, Mwanza\",\n",
    "    \"Chalakudy River / Periyar River (Western Ghats, India)\": \"Chalakudy River\",\n",
    "    \"Gulf of Nicoya estuary (Costa Rica)\": \"Gulf of Nicoya Estuary\",\n",
    "    \"Snowy River headwaters, SE Australia\": \"Snowy River Headwaters\",\n",
    "    \"Derwent headwaters, Tasmania (Australia)\": \"Derwent Headwaters\",\n",
    "    \"Canterbury Otago Rivers\": \"Canterbury Otago Rivers\",\n",
    "    \"Lake Manyara (and adjacent streams), Tanzania\": \"Lake Manyara\"\n",
    "\n",
    "    \n",
    "}\n",
    "\n",
    "df[\"waterbody_name\"] = df[\"waterbody_name\"].replace(rename_wb)\n",
    "\n",
    "# Find suspicious waterbody_name entries (non-lake/river)\n",
    "print(df[\"waterbody_name\"].value_counts().tail(50))\n"
   ]
  },
  {
   "cell_type": "code",
   "execution_count": 78,
   "id": "b26186f0",
   "metadata": {},
   "outputs": [
    {
     "name": "stdout",
     "output_type": "stream",
     "text": [
      "642 unique species\n",
      "1880 unique waterbodies\n"
     ]
    }
   ],
   "source": [
    "print(df[\"species\"].nunique(), \"unique species\")\n",
    "print(df[\"waterbody_name\"].nunique(), \"unique waterbodies\")"
   ]
  },
  {
   "cell_type": "code",
   "execution_count": 80,
   "id": "97c7da00",
   "metadata": {},
   "outputs": [
    {
     "data": {
      "text/plain": [
       "[1993, 1334, 1177, 962, 618, 529, 468, 456, 446, 53, 3, 2, 2, 2, 2]"
      ]
     },
     "execution_count": 80,
     "metadata": {},
     "output_type": "execute_result"
    }
   ],
   "source": [
    "df.isnull().sum().sort_values(ascending=False).head(15).to_list()"
   ]
  },
  {
   "cell_type": "code",
   "execution_count": 82,
   "id": "a221e3f9",
   "metadata": {},
   "outputs": [
    {
     "data": {
      "application/vnd.microsoft.datawrangler.viewer.v0+json": {
       "columns": [
        {
         "name": "trophic_level",
         "rawType": "float64",
         "type": "float"
        },
        {
         "name": "count",
         "rawType": "int64",
         "type": "integer"
        }
       ],
       "ref": "ec6f47a0-a9d1-41cc-adad-0b9aeabbd893",
       "rows": [
        [
         "2.0",
         "96"
        ],
        [
         "2.11",
         "2"
        ],
        [
         "2.13",
         "4"
        ],
        [
         "2.16",
         "1"
        ],
        [
         "2.18",
         "4"
        ],
        [
         "2.19",
         "1"
        ],
        [
         "2.2",
         "2"
        ],
        [
         "2.21",
         "1"
        ],
        [
         "2.255",
         "1"
        ],
        [
         "2.3",
         "11"
        ],
        [
         "2.34",
         "5"
        ],
        [
         "2.350000006",
         "3"
        ],
        [
         "2.359999895",
         "5"
        ],
        [
         "2.39",
         "1"
        ],
        [
         "2.4",
         "16"
        ],
        [
         "2.400000095",
         "4"
        ],
        [
         "2.41",
         "1"
        ],
        [
         "2.42",
         "4"
        ],
        [
         "2.420000076",
         "2"
        ],
        [
         "2.46",
         "4"
        ],
        [
         "2.48",
         "10"
        ],
        [
         "2.49",
         "1"
        ],
        [
         "2.5",
         "11"
        ],
        [
         "2.51",
         "9"
        ],
        [
         "2.52",
         "6"
        ],
        [
         "2.54",
         "2"
        ],
        [
         "2.55",
         "5"
        ],
        [
         "2.57",
         "8"
        ],
        [
         "2.59",
         "7"
        ],
        [
         "2.6",
         "21"
        ],
        [
         "2.62",
         "8"
        ],
        [
         "2.66",
         "5"
        ],
        [
         "2.67",
         "8"
        ],
        [
         "2.68",
         "3"
        ],
        [
         "2.69",
         "4"
        ],
        [
         "2.7",
         "11"
        ],
        [
         "2.700000048",
         "9"
        ],
        [
         "2.71",
         "4"
        ],
        [
         "2.72",
         "6"
        ],
        [
         "2.73",
         "5"
        ],
        [
         "2.74",
         "8"
        ],
        [
         "2.75",
         "12"
        ],
        [
         "2.75999999",
         "10"
        ],
        [
         "2.76",
         "17"
        ],
        [
         "2.77",
         "6"
        ],
        [
         "2.78",
         "23"
        ],
        [
         "2.79",
         "5"
        ],
        [
         "2.8",
         "21"
        ],
        [
         "2.819999933",
         "3"
        ],
        [
         "2.82",
         "14"
        ]
       ],
       "shape": {
        "columns": 1,
        "rows": 205
       }
      },
      "text/plain": [
       "trophic_level\n",
       "2.00    96\n",
       "2.11     2\n",
       "2.13     4\n",
       "2.16     1\n",
       "2.18     4\n",
       "        ..\n",
       "4.42     4\n",
       "4.45     6\n",
       "4.47     5\n",
       "4.47     5\n",
       "4.50    44\n",
       "Name: count, Length: 205, dtype: int64"
      ]
     },
     "execution_count": 82,
     "metadata": {},
     "output_type": "execute_result"
    }
   ],
   "source": [
    "df['trophic_level'] = df['trophic_level'].fillna(df['trophic_level_estimate'])\n",
    "df['trophic_level'].value_counts().sort_index()\n"
   ]
  },
  {
   "cell_type": "code",
   "execution_count": 90,
   "id": "02c95ff4",
   "metadata": {},
   "outputs": [
    {
     "name": "stdout",
     "output_type": "stream",
     "text": [
      "feeding_type\n",
      "predator                                         1060\n",
      "variable                                          274\n",
      "Omnivore                                          160\n",
      "grazer                                            142\n",
      "selective plankton feeding                         56\n",
      "Carnivore                                          41\n",
      "browser                                            27\n",
      "Insectivore                                        23\n",
      "filtering plankton                                 13\n",
      "other                                              10\n",
      "Herbivore                                           8\n",
      "Benthic insectivore                                 8\n",
      "scavenger                                           7\n",
      "Omnivores                                           6\n",
      "small omnivore/insectivore                          5\n",
      "sucking food-containing material                    4\n",
      "Benthic insectivore/omnivore                        3\n",
      "Omnivore / insectivore                              3\n",
      "Small insectivore/omnivore                          2\n",
      "predator/opportunistic carnivore                    2\n",
      "Detritivore                                         2\n",
      "insectivore / surface feeder                        2\n",
      "Benthic Insectivore                                 2\n",
      "Herbvore/detritivore                                2\n",
      "insectivore / surface insect feeder                 1\n",
      "Omnivore / herbivore tendencies (tilapias)          1\n",
      "parasite                                            1\n",
      "Omnivore / benthic feeder                           1\n",
      "Benthic insectivore / small-fish predator           1\n",
      "Omnivore/insectivore                                1\n",
      "Benthic predator/omnivore                           1\n",
      "Detritivore/herbivorous                             1\n",
      "Surface/insectivore/omnivore                        1\n",
      "Omnivore/omnivorous                                 1\n",
      "Nocturnal benthic insectivore                       1\n",
      "Carnivore/Omnivore                                  1\n",
      "Insectivore / small invertebrates                   1\n",
      "Omnivore / invertivore                              1\n",
      "Herbivore/Algivore                                  1\n",
      "Piscivore-Omnivore                                  1\n",
      "Grazer/Detritivore                                  1\n",
      "Benthic invertebrate predator                       1\n",
      "Surface omnivore                                    1\n",
      "Carnivore / micro-invertivore                       1\n",
      "Omnivore / opportunistic                            1\n",
      "Surface/insectivore-planktivore                     1\n",
      "Omnivore / generalist                               1\n",
      "Insectivore / surface feeders                       1\n",
      "Generalist omnivore                                 1\n",
      "Piscivorous                                         1\n",
      "Planktivore / filter feeder                         1\n",
      "Omnivore (algae/inverts)                            1\n",
      "Benthic insectivore (invertebrates, detritus)       1\n",
      "Small benthic predator                              1\n",
      "Non-apex (mid-trophic planktivore)                  1\n",
      "benthic forager                                     1\n",
      "Planktivore / piscivore                             1\n",
      "Omnivore (small inverts)                            1\n",
      "Name: count, dtype: int64\n"
     ]
    }
   ],
   "source": [
    "print(df[\"feeding_type\"].value_counts().tail(100))"
   ]
  },
  {
   "cell_type": "code",
   "execution_count": 91,
   "id": "b1ffe605",
   "metadata": {},
   "outputs": [],
   "source": [
    "df['feeding_type'] = df['feeding_type'].str.lower().str.strip()"
   ]
  },
  {
   "cell_type": "code",
   "execution_count": 92,
   "id": "1af581e9",
   "metadata": {},
   "outputs": [],
   "source": [
    "feeding_map = {\n",
    "    'omnivore': 'omnivore',\n",
    "    'omnivores': 'omnivore',\n",
    "    'omnivore / insectivore': 'omnivore',\n",
    "    'small omnivore/insectivore': 'omnivore',\n",
    "    'omnivore (small inverts)': 'omnivore',\n",
    "    'herbivore': 'herbivore',\n",
    "    'herbvore/detritivore': 'herbivore',\n",
    "    'predator': 'predator',\n",
    "    'predator/opportunistic carnivore': 'predator',\n",
    "    'carnivore': 'carnivore',\n",
    "    'grazer': 'grazer',\n",
    "    'browser': 'browser',\n",
    "    'selective plankton feeding': 'planktivore',\n",
    "    'filtering plankton': 'planktivore',\n",
    "    'benthic insectivore': 'benthic_insectivore',\n",
    "    'benthic insectivore/omnivore': 'benthic_insectivore',\n",
    "    'insectivore / surface feeder': 'benthic_insectivore',\n",
    "    'small insectivore/omnivore': 'benthic_insectivore',\n",
    "    'detritivore': 'detritivore',\n",
    "    'sucking food-containing material': 'other',\n",
    "    'other': 'other',\n",
    "    'benthic forager': 'other',\n",
    "    'planktivore / piscivore': 'planktivore'\n",
    "}\n",
    "\n",
    "df['feeding_type'] = df['feeding_type'].replace(feeding_map)"
   ]
  },
  {
   "cell_type": "code",
   "execution_count": 93,
   "id": "062688c7",
   "metadata": {},
   "outputs": [
    {
     "name": "stdout",
     "output_type": "stream",
     "text": [
      "feeding_type\n",
      "predator                                         1062\n",
      "variable                                          274\n",
      "omnivore                                          175\n",
      "grazer                                            142\n",
      "planktivore                                        70\n",
      "carnivore                                          41\n",
      "browser                                            27\n",
      "insectivore                                        23\n",
      "benthic_insectivore                                17\n",
      "other                                              15\n",
      "herbivore                                          10\n",
      "scavenger                                           7\n",
      "detritivore                                         2\n",
      "insectivore / surface insect feeder                 1\n",
      "omnivore / herbivore tendencies (tilapias)          1\n",
      "omnivore/insectivore                                1\n",
      "benthic insectivore / small-fish predator           1\n",
      "omnivore / benthic feeder                           1\n",
      "parasite                                            1\n",
      "omnivore/omnivorous                                 1\n",
      "benthic predator/omnivore                           1\n",
      "detritivore/herbivorous                             1\n",
      "surface/insectivore/omnivore                        1\n",
      "nocturnal benthic insectivore                       1\n",
      "carnivore/omnivore                                  1\n",
      "omnivore / invertivore                              1\n",
      "insectivore / small invertebrates                   1\n",
      "herbivore/algivore                                  1\n",
      "piscivore-omnivore                                  1\n",
      "grazer/detritivore                                  1\n",
      "benthic invertebrate predator                       1\n",
      "surface omnivore                                    1\n",
      "carnivore / micro-invertivore                       1\n",
      "omnivore / opportunistic                            1\n",
      "surface/insectivore-planktivore                     1\n",
      "omnivore / generalist                               1\n",
      "insectivore / surface feeders                       1\n",
      "generalist omnivore                                 1\n",
      "piscivorous                                         1\n",
      "planktivore / filter feeder                         1\n",
      "omnivore (algae/inverts)                            1\n",
      "benthic insectivore (invertebrates, detritus)       1\n",
      "small benthic predator                              1\n",
      "non-apex (mid-trophic planktivore)                  1\n",
      "Name: count, dtype: int64\n"
     ]
    }
   ],
   "source": [
    "print(df[\"feeding_type\"].value_counts().tail(100))"
   ]
  },
  {
   "cell_type": "code",
   "execution_count": 98,
   "metadata": {},
   "outputs": [
    {
     "name": "stdout",
     "output_type": "stream",
     "text": [
      "feeding_type_clean\n",
      "predator               1062\n",
      "other                   492\n",
      "variable                274\n",
      "omnivore                175\n",
      "grazer                  142\n",
      "planktivore              70\n",
      "carnivore                41\n",
      "browser                  27\n",
      "insectivore              23\n",
      "benthic_insectivore      17\n",
      "herbivore                10\n",
      "scavenger                 7\n",
      "detritivore               2\n",
      "Name: count, dtype: int64\n",
      "Total rows: 2342\n"
     ]
    }
   ],
   "source": [
    "main_types = [\n",
    "    'predator', 'variable', 'omnivore', 'grazer', 'planktivore',\n",
    "    'carnivore', 'browser', 'insectivore', 'benthic_insectivore',\n",
    "    'herbivore', 'scavenger', 'detritivore', 'other'\n",
    "]\n",
    "\n",
    "df['feeding_type_clean'] = df['feeding_type'].apply(\n",
    "    lambda x: x if x in main_types else 'other'\n",
    ")\n",
    "\n",
    "# Counts per category\n",
    "print(df['feeding_type_clean'].value_counts())\n",
    "\n",
    "# Total number of rows\n",
    "print(\"Total rows:\", df['feeding_type_clean'].shape[0])\n"
   ]
  },
  {
   "cell_type": "code",
   "execution_count": null,
   "id": "1408eecb",
   "metadata": {},
   "outputs": [],
   "source": []
  },
  {
   "cell_type": "code",
   "execution_count": null,
   "id": "e0aeabd9",
   "metadata": {},
   "outputs": [],
   "source": [
    "df.to_csv(\"pre_encoded_final_final.csv\", index=False)"
   ]
  },
  {
   "cell_type": "code",
   "execution_count": null,
   "metadata": {},
   "outputs": [],
   "source": []
  },
  {
   "cell_type": "markdown",
   "id": "f37f0d7d",
   "metadata": {},
   "source": [
    "# Encode categories"
   ]
  },
  {
   "cell_type": "code",
   "execution_count": 87,
   "id": "7fc6cc9a",
   "metadata": {},
   "outputs": [
    {
     "data": {
      "application/vnd.microsoft.datawrangler.viewer.v0+json": {
       "columns": [
        {
         "name": "index",
         "rawType": "object",
         "type": "string"
        },
        {
         "name": "0",
         "rawType": "object",
         "type": "unknown"
        }
       ],
       "ref": "11c5ea41-4e6f-4af6-bb76-ec18fbbe7de7",
       "rows": [
        [
         "fish_id",
         "object"
        ],
        [
         "species",
         "object"
        ],
        [
         "common_name",
         "object"
        ],
        [
         "waterbody_name",
         "object"
        ],
        [
         "kingdom",
         "object"
        ],
        [
         "phylum",
         "object"
        ],
        [
         "class",
         "object"
        ],
        [
         "order",
         "object"
        ],
        [
         "family",
         "object"
        ],
        [
         "genus",
         "object"
        ],
        [
         "status",
         "object"
        ],
        [
         "feeding_type",
         "object"
        ],
        [
         "temp_max",
         "float64"
        ],
        [
         "weight_max",
         "float64"
        ],
        [
         "length_max",
         "float64"
        ],
        [
         "temp_pref_min",
         "float64"
        ],
        [
         "temp_pref_max",
         "float64"
        ],
        [
         "fecundity_mean",
         "float64"
        ],
        [
         "fecundity_min",
         "float64"
        ],
        [
         "fecundity_max",
         "float64"
        ],
        [
         "trophic_level_estimate",
         "float64"
        ],
        [
         "trophic_level",
         "float64"
        ],
        [
         "wb_ph_min",
         "float64"
        ],
        [
         "wb_ph_max",
         "float64"
        ],
        [
         "wb_salinity_min",
         "float64"
        ],
        [
         "wb_salinity_max",
         "float64"
        ],
        [
         "wb_do_min",
         "float64"
        ],
        [
         "wb_do_max",
         "float64"
        ],
        [
         "wb_bod_min",
         "float64"
        ],
        [
         "wb_bod_max",
         "float64"
        ],
        [
         "wb_turbidity_min",
         "float64"
        ],
        [
         "wb_turbidity_max",
         "float64"
        ],
        [
         "wb_temp_min",
         "float64"
        ],
        [
         "wb_temp_max",
         "float64"
        ]
       ],
       "shape": {
        "columns": 1,
        "rows": 34
       }
      },
      "text/plain": [
       "fish_id                    object\n",
       "species                    object\n",
       "common_name                object\n",
       "waterbody_name             object\n",
       "kingdom                    object\n",
       "phylum                     object\n",
       "class                      object\n",
       "order                      object\n",
       "family                     object\n",
       "genus                      object\n",
       "status                     object\n",
       "feeding_type               object\n",
       "temp_max                  float64\n",
       "weight_max                float64\n",
       "length_max                float64\n",
       "temp_pref_min             float64\n",
       "temp_pref_max             float64\n",
       "fecundity_mean            float64\n",
       "fecundity_min             float64\n",
       "fecundity_max             float64\n",
       "trophic_level_estimate    float64\n",
       "trophic_level             float64\n",
       "wb_ph_min                 float64\n",
       "wb_ph_max                 float64\n",
       "wb_salinity_min           float64\n",
       "wb_salinity_max           float64\n",
       "wb_do_min                 float64\n",
       "wb_do_max                 float64\n",
       "wb_bod_min                float64\n",
       "wb_bod_max                float64\n",
       "wb_turbidity_min          float64\n",
       "wb_turbidity_max          float64\n",
       "wb_temp_min               float64\n",
       "wb_temp_max               float64\n",
       "dtype: object"
      ]
     },
     "execution_count": 87,
     "metadata": {},
     "output_type": "execute_result"
    }
   ],
   "source": [
    "df.dtypes\n",
    "#"
   ]
  }
 ],
 "metadata": {
  "kernelspec": {
   "display_name": "Python 3",
   "language": "python",
   "name": "python3"
  },
  "language_info": {
   "codemirror_mode": {
    "name": "ipython",
    "version": 3
   },
   "file_extension": ".py",
   "mimetype": "text/x-python",
   "name": "python",
   "nbconvert_exporter": "python",
   "pygments_lexer": "ipython3",
   "version": "3.13.7"
  }
 },
 "nbformat": 4,
 "nbformat_minor": 5
}
