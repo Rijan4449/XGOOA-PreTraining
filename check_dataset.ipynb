{
 "cells": [
  {
   "cell_type": "code",
   "execution_count": 8,
   "id": "2338d7a0",
   "metadata": {},
   "outputs": [
    {
     "name": "stdout",
     "output_type": "stream",
     "text": [
      "Fish ID                                       2\n",
      "Species                                       2\n",
      "Common Name                                  53\n",
      "Lake Name                                     3\n",
      "Kingdom                                       2\n",
      "Phylum                                        2\n",
      "Class                                         2\n",
      "Order                                         2\n",
      "Family                                        2\n",
      "Genus                                         2\n",
      "Statues                                       0\n",
      "FeedingType                                 446\n",
      "Tmax                                       1333\n",
      "Wmax                                        960\n",
      "Lmax                                        607\n",
      "TempPref_min                                463\n",
      "TempPref_max                                450\n",
      "TempRange                                   480\n",
      "MeanFecundity                              1176\n",
      "MinFecundity                                  0\n",
      "MaxFecundity                                  0\n",
      "Trophic Level Estimate                     1966\n",
      "Trophic Level                               529\n",
      "WB_pH_min                                     0\n",
      "WB_pH_max                                     0\n",
      "WB_Salinity_min                               0\n",
      "WB_Salinity_max                               0\n",
      "WB_Dissolved Oxygen (mg/L)_min                0\n",
      "WB_Dissolved Oxygen (mg/L)_max                0\n",
      "WB_Biochemical Oxygen Demand (mg/L)_min       0\n",
      "WB_Biochemical Oxygen Demand (mg/L)_max       0\n",
      "WB_Turbidity (NTU)_min                        0\n",
      "WB_Turbidity (NTU)_max                        0\n",
      "WB_Temperature_min                            0\n",
      "WB_Temperature_max                            0\n",
      "dtype: int64\n"
     ]
    }
   ],
   "source": [
    "import pandas as pd\n",
    "\n",
    "ranges = pd.read_csv(\"Dataset_v2_cleaned_ranges.csv\")\n",
    "imputed = pd.read_csv(\"Imputed_dataset.csv\")\n",
    "imputed2 = pd.read_csv(\"Imputed_dataset2.csv\")\n",
    "\n",
    "# Count missing valsdsdsdsdsdsdsds\n",
    "# print(df.isna().sum())\n",
    "print(imputed2.isna().sum())"
   ]
  },
  {
   "cell_type": "code",
   "execution_count": 10,
   "id": "618ccb75",
   "metadata": {},
   "outputs": [
    {
     "name": "stdout",
     "output_type": "stream",
     "text": [
      "(2342, 35)\n"
     ]
    }
   ],
   "source": [
    "df = pd.read_csv(\"Imputed_dataset2.csv\")\n",
    "print(df.shape)"
   ]
  },
  {
   "cell_type": "code",
   "execution_count": 12,
   "id": "c8aca0a6",
   "metadata": {},
   "outputs": [
    {
     "name": "stdout",
     "output_type": "stream",
     "text": [
      "Statues\n",
      "Invasive       889\n",
      "Established    592\n",
      "Reported       308\n",
      "EN             228\n",
      "Failed         201\n",
      "Name: count, dtype: int64\n"
     ]
    }
   ],
   "source": [
    "col = 'Statues'\n",
    "print(df[col].value_counts().head())  # Top 10 most frequent unique values\n"
   ]
  }
 ],
 "metadata": {
  "kernelspec": {
   "display_name": "Python 3",
   "language": "python",
   "name": "python3"
  },
  "language_info": {
   "codemirror_mode": {
    "name": "ipython",
    "version": 3
   },
   "file_extension": ".py",
   "mimetype": "text/x-python",
   "name": "python",
   "nbconvert_exporter": "python",
   "pygments_lexer": "ipython3",
   "version": "3.13.7"
  }
 },
 "nbformat": 4,
 "nbformat_minor": 5
}
