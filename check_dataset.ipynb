{
 "cells": [
  {
   "cell_type": "code",
   "execution_count": 3,
   "id": "2338d7a0",
   "metadata": {},
   "outputs": [
    {
     "name": "stdout",
     "output_type": "stream",
     "text": [
      "Fish ID                                       2\n",
      "Species                                       2\n",
      "Common Name                                  53\n",
      "Lake Name                                     3\n",
      "Kingdom                                       2\n",
      "Phylum                                        2\n",
      "Class                                         2\n",
      "Order                                         2\n",
      "Family                                        2\n",
      "Genus                                         2\n",
      "Statues                                       0\n",
      "FeedingType                                 446\n",
      "Tmax                                       1333\n",
      "Wmax                                        960\n",
      "Lmax                                        607\n",
      "TempPref_min                                463\n",
      "TempPref_max                                450\n",
      "TempRange                                   480\n",
      "MeanFecundity                              1176\n",
      "MinFecundity                                  0\n",
      "MaxFecundity                                  0\n",
      "Trophic Level Estimate                     1966\n",
      "Trophic Level                               529\n",
      "WB_pH_min                                     0\n",
      "WB_pH_max                                     0\n",
      "WB_Salinity_min                               0\n",
      "WB_Salinity_max                               0\n",
      "WB_Dissolved Oxygen (mg/L)_min                0\n",
      "WB_Dissolved Oxygen (mg/L)_max                0\n",
      "WB_Biochemical Oxygen Demand (mg/L)_min       0\n",
      "WB_Biochemical Oxygen Demand (mg/L)_max       0\n",
      "WB_Turbidity (NTU)_min                        0\n",
      "WB_Turbidity (NTU)_max                        0\n",
      "WB_Temperature_min                            0\n",
      "WB_Temperature_max                            0\n",
      "dtype: int64\n"
     ]
    }
   ],
   "source": [
    "import pandas as pd\n",
    "\n",
    "ranges = pd.read_csv(\"Dataset_v2_cleaned_ranges.csv\")\n",
    "imputed = pd.read_csv(\"Imputed_dataset.csv\")\n",
    "imputed2 = pd.read_csv(\"Imputed_dataset2.csv\")\n",
    "\n",
    "# Count missing valsdsdsdsdsdsdsds\n",
    "# print(df.isna().sum())\n",
    "print(imputed2.isna().sum())"
   ]
  },
  {
   "cell_type": "code",
   "execution_count": 4,
   "id": "618ccb75",
   "metadata": {},
   "outputs": [
    {
     "name": "stdout",
     "output_type": "stream",
     "text": [
      "(2342, 35)\n"
     ]
    }
   ],
   "source": [
    "df = pd.read_csv(\"Imputed_dataset2.csv\")\n",
    "print(df.shape)"
   ]
  },
  {
   "cell_type": "code",
   "execution_count": 8,
   "id": "c8aca0a6",
   "metadata": {},
   "outputs": [
    {
     "data": {
      "application/vnd.microsoft.datawrangler.viewer.v0+json": {
       "columns": [
        {
         "name": "Lake Name",
         "rawType": "object",
         "type": "string"
        },
        {
         "name": "count",
         "rawType": "int64",
         "type": "integer"
        }
       ],
       "ref": "899231d3-a07f-4ad2-96a2-6da85fb952ae",
       "rows": [
        [
         "Laguna de Bay",
         "35"
        ],
        [
         "Lake Erie, USA",
         "18"
        ],
        [
         "Lake Michigan, USA",
         "16"
        ],
        [
         "Taal Lake",
         "14"
        ],
        [
         "Laguna de Bay, Philippines",
         "13"
        ],
        [
         "Laguna River",
         "13"
        ],
        [
         "Lake Ontario, Canada",
         "13"
        ],
        [
         "Lake Balaton, Hungary",
         "11"
        ],
        [
         "Lake Malawi, Malawi",
         "8"
        ],
        [
         "Lake Ontario",
         "8"
        ],
        [
         "Lake Victoria",
         "7"
        ],
        [
         "Lake Mainit",
         "7"
        ],
        [
         "Laguna Creek",
         "7"
        ],
        [
         "Laguna Stream",
         "7"
        ],
        [
         "Lake Taal",
         "6"
        ],
        [
         "Lake Michigan",
         "6"
        ],
        [
         "Laguna River, Philippines",
         "6"
        ],
        [
         "Lake Superior",
         "6"
        ],
        [
         "Chao Phraya River, Thailand",
         "6"
        ],
        [
         "Lake Erie",
         "6"
        ],
        [
         "Laguna Stream, Philippines",
         "5"
        ],
        [
         "Lake Huron",
         "5"
        ],
        [
         "Mississippi River, USA",
         "5"
        ],
        [
         "Lake Okeechobee, Florida, USA",
         "5"
        ],
        [
         "Chao Phraya Basin, Thailand",
         "5"
        ],
        [
         "Lake Biwa, Japan",
         "5"
        ],
        [
         "Lake Huron, USA",
         "5"
        ],
        [
         "Laguna Creek, Philippines",
         "5"
        ],
        [
         "Lake Danao",
         "4"
        ],
        [
         "Pampanga River",
         "4"
        ],
        [
         "Lake Buhi",
         "4"
        ],
        [
         "Lake Tanganyika",
         "4"
        ],
        [
         "Lake Malawi",
         "4"
        ],
        [
         "Lake Taal, Philippines",
         "4"
        ],
        [
         "Lake Ontario, NY",
         "4"
        ],
        [
         "Lake Sampaloc",
         "4"
        ],
        [
         "River Thames, UK",
         "4"
        ],
        [
         "Danube River",
         "4"
        ],
        [
         "Essequibo River, Guyana",
         "4"
        ],
        [
         "Lake Laut Tawar, Indonesia",
         "4"
        ],
        [
         "Kura River",
         "4"
        ],
        [
         "Chao Phraya River (BangkokAyutthaya reach)",
         "4"
        ],
        [
         "Lake Ontario, USA/Canada",
         "4"
        ],
        [
         "Lake Ontario Tributaries, Canada",
         "4"
        ],
        [
         "Amazon River, Brazil",
         "4"
        ],
        [
         "Lake Balkhash, Kazakhstan",
         "3"
        ],
        [
         "Uruguay River",
         "3"
        ],
        [
         "Caspian Sea",
         "3"
        ],
        [
         "Mekong River, Cambodia",
         "3"
        ],
        [
         "River Danube, Hungary",
         "3"
        ]
       ],
       "shape": {
        "columns": 1,
        "rows": 1897
       }
      },
      "text/plain": [
       "Lake Name\n",
       "Laguna de Bay                                  35\n",
       "Lake Erie, USA                                 18\n",
       "Lake Michigan, USA                             16\n",
       "Taal Lake                                      14\n",
       "Laguna de Bay, Philippines                     13\n",
       "                                               ..\n",
       "Canterbury/Otago rivers (New Zealand)           1\n",
       "(Omani garra)\\nWadi Bani Khalid pools, Oman     1\n",
       "Sepik River, Papua New Guinea                   1\n",
       "Lufira River, Congo basin (DRC)                 1\n",
       "Dry Creek, USA                                  1\n",
       "Name: count, Length: 1897, dtype: int64"
      ]
     },
     "execution_count": 8,
     "metadata": {},
     "output_type": "execute_result"
    }
   ],
   "source": [
    "df[col].value_counts()"
   ]
  },
  {
   "cell_type": "code",
   "execution_count": null,
   "id": "ea04e899",
   "metadata": {},
   "outputs": [
    {
     "name": "stdout",
     "output_type": "stream",
     "text": [
      "Lake Name\n",
      "Laguna de Bay                 35\n",
      "Lake Erie, USA                18\n",
      "Lake Michigan, USA            16\n",
      "Taal Lake                     14\n",
      "Laguna de Bay, Philippines    13\n",
      "Name: count, dtype: int64\n"
     ]
    }
   ],
   "source": [
    "col = 'Lake Name'\n",
    "print(df[col].value_counts().head(10))"
   ]
  },
  {
   "cell_type": "code",
   "execution_count": 9,
   "id": "f36c4f12",
   "metadata": {},
   "outputs": [
    {
     "name": "stdout",
     "output_type": "stream",
     "text": [
      "Lake Name\n",
      "Laguna de Bay                 35\n",
      "Taal Lake                     14\n",
      "Laguna de Bay, Philippines    13\n",
      "Laguna River                  13\n",
      "Laguna Creek                   7\n",
      "                              ..\n",
      "Lake Naujan, Philippines       1\n",
      "Lake Sebu, Philippines         1\n",
      "Pasig River, Philippines       1\n",
      "Agusan Marsh, Philippines      1\n",
      "San Francisco River, PH        1\n",
      "Name: count, Length: 110, dtype: int64\n",
      "\n",
      "Total Philippine records: 244\n"
     ]
    }
   ],
   "source": [
    "# Your full list of Philippine waterbodies\n",
    "philippine_waterbodies = [\n",
    "    \"Laguna de Bay\",\n",
    "    \"Taal Lake\",\n",
    "    \"Laguna de Bay, Philippines\",\n",
    "    \"Laguna Creek\",\n",
    "    \"Laguna Stream\",\n",
    "    \"Laguna River\",\n",
    "    \"Laguna River, Philippines\",\n",
    "    \"Lake Mainit\",\n",
    "    \"Laguna Stream, Philippines\",\n",
    "    \"Laguna Creek, Philippines\",\n",
    "    \"Lake Buhi\",\n",
    "    \"Pampanga River\",\n",
    "    \"Lake Taal, Philippines\",\n",
    "    \"Lake Sampaloc\",\n",
    "    \"Laguna de Bay (East Bay)\",\n",
    "    \"Lake Buhi, Camarines Sur\",\n",
    "    \"Laguna Lake\",\n",
    "    \"Lake Buluan\",\n",
    "    \"Lake Lanao\",\n",
    "    \"Lake Naujan\",\n",
    "    \"Lake Caliraya\",\n",
    "    \"Lake Lanao, Mindanao\",\n",
    "    \"Lake Mainit, Surigao del Norte\",\n",
    "    \"Lake Balinsasayao, Negros Oriental\",\n",
    "    \"Lake Taal, Batangas\",\n",
    "    \"Sampaloc Lake\",\n",
    "    \"Lake Palakpakin, Laguna\",\n",
    "    \"Taal River\",\n",
    "    \"Lake Lanao, Philippines\",\n",
    "    \"Lake Danao, Philippines\",\n",
    "    \"Laguna Lake, Philippines\",\n",
    "    \"Lake Danao, Cebu\",\n",
    "    \"Lake Sampaloc, Quezon\",\n",
    "    \"Lake Caliraya, Laguna\",\n",
    "    \"Lake Pandin, Laguna\",\n",
    "    \"Lake Yambo, Laguna\",\n",
    "    \"Lake Bunot, Laguna\",\n",
    "    \"Lake Mahucdam, Surigao del Norte, Philippines\",\n",
    "    \"Tayabas River (Upstream)\",\n",
    "    \"Tayabas River (Midstream)\",\n",
    "    \"Tayabas River (Downstream)\",\n",
    "    \"Laguna Lake (Laguna)\",\n",
    "    \"Marikina River\",\n",
    "    \"Paoay Lake\",\n",
    "    \"Lake Danao (Cebu)\",\n",
    "    \"Lake Mainit (Surigao del Norte)\",\n",
    "    \"Lake Balinsasayao (Negros Oriental)\",\n",
    "    \"Lake Balanan (Siquijor)\",\n",
    "    \"Lake Apo (Davao del Sur)\",\n",
    "    \"Lake Caliraya (Laguna)\",\n",
    "    \"Lake Taal (Batangas)\",\n",
    "    \"Seven Lakes\",\n",
    "    \"Bumbungan River\",\n",
    "    \"San Cristobal River\",\n",
    "    \"Pangil River\",\n",
    "    \"San Agustin Wetlands, Romblon\",\n",
    "    \"Lake Balinsasayao\",\n",
    "    \"Lake Balanan\",\n",
    "    \"Tayabas River, Quezon\",\n",
    "    \"Lake Buluan, Maguindanao\",\n",
    "    \"Lake Lanao, Lanao del Sur\",\n",
    "    \"Lake Danao, Leyte\",\n",
    "    \"Laguna Pond\",\n",
    "    \"Laguna Reservoir\",\n",
    "    \"Maria River, Laguna\",\n",
    "    \"Lake Naujan, Mindoro\",\n",
    "    \"Lake Mainit, Mindanao\",\n",
    "    \"Kalinawan River, Mindanao\",\n",
    "    \"Lake Manguao, Palawan\",\n",
    "    \"Lake Buluan, Cotabato\",\n",
    "    \"Rio Grande River, Cotabato\",\n",
    "    \"Fort Pikit River, Cotabato\",\n",
    "    \"Laguna de Bay, PH\",\n",
    "    \"Pasig River (upstream)\",\n",
    "    \"Lake Paoay\",\n",
    "    \"Laguna de Bay (Station 2)\",\n",
    "    \"Laguna de Bay (Station 3)\",\n",
    "    \"Manurigao River (Station 2)\",\n",
    "    \"Manurigao River (Station 3)\",\n",
    "    \"Lake Pinamaloy\",\n",
    "    \"Navotas River\",\n",
    "    \"Taal Freshwater Pond\",\n",
    "    \"Angat River\",\n",
    "    \"Ilog-Hilab River\",\n",
    "    \"Buhi Lake\",\n",
    "    \"Laguna de Bay (Central Bay)\",\n",
    "    \"Aquaponic System, Philippines\",\n",
    "    \"Agusan River\",\n",
    "    \"Pagsanjan River\",\n",
    "    \"Agno River\",\n",
    "    \"Cagayan River\",\n",
    "    \"Mindanao River\",\n",
    "    \"Lake Sampaloc (San Pablo)\",\n",
    "    \"Laguna de Bay (Philippines)  fry study\",\n",
    "    \"Upper Marikina River\",\n",
    "    \"Upper Angat River\",\n",
    "    \"Upper Pampanga River\",\n",
    "    \"Upper Cagayan River\",\n",
    "    \"Upper Agno River\",\n",
    "    \"Lake Dapao\",\n",
    "    \"Taal Lake, Philippines\",\n",
    "    \"Paoay Lake, Philippines\",\n",
    "    \"Lake Balinsasayao, Philippines\",\n",
    "    \"Lake Sampaloc, Philippines\",\n",
    "    \"Lake Buhi, Philippines\",\n",
    "    \"Lake Naujan, Philippines\",\n",
    "    \"Lake Sebu, Philippines\",\n",
    "    \"Pasig River, Philippines\",\n",
    "    \"Agusan Marsh, Philippines\",\n",
    "    \"San Francisco River, PH\"\n",
    "]\n",
    "\n",
    "# Clean up column names\n",
    "df.columns = df.columns.str.strip()\n",
    "\n",
    "# Filter dataset to only include PH waterbodies\n",
    "ph_df = df[df[\"Lake Name\"].isin(philippine_waterbodies)]\n",
    "\n",
    "# Get value counts per PH waterbody\n",
    "counts = ph_df[\"Lake Name\"].value_counts()\n",
    "\n",
    "print(counts)\n",
    "\n",
    "# Total number of PH records\n",
    "print(\"\\nTotal Philippine records:\", counts.sum())\n"
   ]
  },
  {
   "cell_type": "code",
   "execution_count": 10,
   "id": "7aadbb7e",
   "metadata": {},
   "outputs": [
    {
     "name": "stdout",
     "output_type": "stream",
     "text": [
      "Lake Name\n",
      "Laguna de Bay                 35\n",
      "Taal Lake                     14\n",
      "Laguna River                  13\n",
      "Laguna de Bay, Philippines    13\n",
      "Laguna Creek                   7\n",
      "                              ..\n",
      "Taal Lake, Philippines         1\n",
      "Paoay Lake, Philippines        1\n",
      "Lake Buhi, Philippines         1\n",
      "Lake Naujan, Philippines       1\n",
      "Pasig River, Philippines       1\n",
      "Name: count, Length: 69, dtype: int64\n",
      "\n",
      "Total Luzon records: 189\n"
     ]
    }
   ],
   "source": [
    "# Subset: Luzon waterbodies (based on your master list)\n",
    "luzon_waterbodies = [\n",
    "    \"Laguna de Bay\",\n",
    "    \"Laguna de Bay, Philippines\",\n",
    "    \"Laguna de Bay (East Bay)\",\n",
    "    \"Laguna de Bay (Central Bay)\",\n",
    "    \"Laguna de Bay (Station 2)\",\n",
    "    \"Laguna de Bay (Station 3)\",\n",
    "    \"Laguna de Bay (Philippines)  fry study\",\n",
    "    \"Laguna Lake\",\n",
    "    \"Laguna Lake, Philippines\",\n",
    "    \"Laguna Lake (Laguna)\",\n",
    "    \"Laguna Pond\",\n",
    "    \"Laguna Reservoir\",\n",
    "    \"Laguna Creek\",\n",
    "    \"Laguna Creek, Philippines\",\n",
    "    \"Laguna Stream\",\n",
    "    \"Laguna Stream, Philippines\",\n",
    "    \"Laguna River\",\n",
    "    \"Laguna River, Philippines\",\n",
    "    \"Maria River, Laguna\",\n",
    "    \"Lake Caliraya\",\n",
    "    \"Lake Caliraya, Laguna\",\n",
    "    \"Lake Caliraya (Laguna)\",\n",
    "    \"Lake Palakpakin, Laguna\",\n",
    "    \"Lake Pandin, Laguna\",\n",
    "    \"Lake Yambo, Laguna\",\n",
    "    \"Lake Bunot, Laguna\",\n",
    "    \"Lake Sampaloc\",\n",
    "    \"Sampaloc Lake\",\n",
    "    \"Lake Sampaloc, Quezon\",\n",
    "    \"Lake Sampaloc (San Pablo)\",\n",
    "    \"Lake Taal, Philippines\",\n",
    "    \"Lake Taal, Batangas\",\n",
    "    \"Lake Taal (Batangas)\",\n",
    "    \"Taal Lake\",\n",
    "    \"Taal Lake, Philippines\",\n",
    "    \"Taal River\",\n",
    "    \"Taal Freshwater Pond\",\n",
    "    \"Buhi Lake\",\n",
    "    \"Lake Buhi\",\n",
    "    \"Lake Buhi, Camarines Sur\",\n",
    "    \"Lake Buhi, Philippines\",\n",
    "    \"Pampanga River\",\n",
    "    \"Upper Pampanga River\",\n",
    "    \"Marikina River\",\n",
    "    \"Upper Marikina River\",\n",
    "    \"Pasig River (upstream)\",\n",
    "    \"Pasig River, Philippines\",\n",
    "    \"San Cristobal River\",\n",
    "    \"Pangil River\",\n",
    "    \"Bumbungan River\",\n",
    "    \"Pagsanjan River\",\n",
    "    \"Navotas River\",\n",
    "    \"Angat River\",\n",
    "    \"Upper Angat River\",\n",
    "    \"Upper Cagayan River\",\n",
    "    \"Cagayan River\",\n",
    "    \"Upper Agno River\",\n",
    "    \"Agno River\",\n",
    "    \"Seven Lakes\",\n",
    "    \"Paoay Lake\",\n",
    "    \"Paoay Lake, Philippines\",\n",
    "    \"Lake Naujan\",\n",
    "    \"Lake Naujan, Mindoro\",\n",
    "    \"Lake Naujan, Philippines\",\n",
    "    \"Tayabas River (Upstream)\",\n",
    "    \"Tayabas River (Midstream)\",\n",
    "    \"Tayabas River (Downstream)\",\n",
    "    \"Tayabas River, Quezon\",\n",
    "    \"San Agustin Wetlands, Romblon\"\n",
    "]\n",
    "\n",
    "# Filter DataFrame\n",
    "luzon_df = df[df[\"Lake Name\"].isin(luzon_waterbodies)]\n",
    "\n",
    "# Get value counts per Luzon waterbody\n",
    "counts = luzon_df[\"Lake Name\"].value_counts()\n",
    "\n",
    "print(counts)\n",
    "\n",
    "# Total Luzon records\n",
    "print(\"\\nTotal Luzon records:\", counts.sum())"
   ]
  },
  {
   "cell_type": "code",
   "execution_count": 11,
   "id": "17951a63",
   "metadata": {},
   "outputs": [
    {
     "name": "stdout",
     "output_type": "stream",
     "text": [
      "Total rows in dataset: 2342\n"
     ]
    }
   ],
   "source": [
    "print(\"Total rows in dataset:\", df.shape[0])"
   ]
  }
 ],
 "metadata": {
  "kernelspec": {
   "display_name": "Python 3",
   "language": "python",
   "name": "python3"
  },
  "language_info": {
   "codemirror_mode": {
    "name": "ipython",
    "version": 3
   },
   "file_extension": ".py",
   "mimetype": "text/x-python",
   "name": "python",
   "nbconvert_exporter": "python",
   "pygments_lexer": "ipython3",
   "version": "3.13.7"
  }
 },
 "nbformat": 4,
 "nbformat_minor": 5
}
